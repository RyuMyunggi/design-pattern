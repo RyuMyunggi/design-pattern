{
  "nbformat": 4,
  "nbformat_minor": 0,
  "metadata": {
    "colab": {
      "name": "MVC.ipynb",
      "provenance": [],
      "authorship_tag": "ABX9TyOtnSFHDdG0R7LTgOqOzQ/j",
      "include_colab_link": true
    },
    "kernelspec": {
      "name": "python3",
      "display_name": "Python 3"
    },
    "language_info": {
      "name": "python"
    }
  },
  "cells": [
    {
      "cell_type": "markdown",
      "metadata": {
        "id": "view-in-github",
        "colab_type": "text"
      },
      "source": [
        "<a href=\"https://colab.research.google.com/github/RyuMyunggi/design-pattern/blob/main/MVC.ipynb\" target=\"_parent\"><img src=\"https://colab.research.google.com/assets/colab-badge.svg\" alt=\"Open In Colab\"/></a>"
      ]
    },
    {
      "cell_type": "markdown",
      "metadata": {
        "id": "oshdtLsn9fLE"
      },
      "source": [
        "## 컴파운드 디자인 패턴, MVC Design Pattern"
      ]
    },
    {
      "cell_type": "markdown",
      "metadata": {
        "id": "dTyWUSuI9u59"
      },
      "source": [
        "## 컴파운드 패턴 개요\n",
        "* 컴파운드 패턴은 2개 이상의 패턴을 합쳐서 문제를 해결하는 패턴\n",
        "* 단순히 여러 패턴의 조합이 아닌 문제를 해결하는 독립적인 솔루션\n",
        "* 모델 - 뷰 - 컨트롤러 패턴은 컴파운드 패턴의 가장 대표적인 종류"
      ]
    },
    {
      "cell_type": "markdown",
      "metadata": {
        "id": "PAkOFCQ6-Hcp"
      },
      "source": [
        "## 모델 - 뷰 - 컨트롤러 패턴\n",
        "* MVC 패턴은 유저 인터페이스를 구현할 수 있는 유지보수가 용이한 디자인 패턴\n",
        "* MVC 패턴은 애플리케이션을 모델과 뷰, 컨트롤러로 나눠 구성. 각 파트는 맞물려 있으며 요청의 처리와 표현을 분리\n",
        "* MVC 패턴의 원리\n",
        "  * 모델: 데이터와 비즈니스 로직을 처리 (정보 저장 및 쿼리 로직)\n",
        "  * 뷰: 데이터의 시각적 표현을 담당\n",
        "  * 컨트롤러: 사용자의 요청에 따라 모델과 뷰 사이의 요청을 처리\n",
        "* 뷰와 컨트롤러는 모델에 의존. 하지만 반대는 아님\n",
        "  * 사용자가 데이터를 직접 요청하는 구조 이기 때문에. 이와 같은 모델의 독립성이 MVC 패턴의 중요한 부분\n",
        "  "
      ]
    },
    {
      "cell_type": "markdown",
      "metadata": {
        "id": "cb3MLiPF-5ij"
      },
      "source": [
        "## 개발의 관점에서 본 MVC 패턴\n",
        "* model class\n",
        "  * 데이터의 생성과 수정, 소멸 등 데이터에 관한 모든 작업을 정의하고 데이터를 사용하는 메소드를 제공\n",
        "* view class\n",
        "  * 클래스는 유저 인터페이스를 담당. 애플리케이션에 필요한 웹이나 GUI를 생성하는 메소드를 포함. 전달 받는 데이터를 시각적으로 표현하는 기능 외 개별적인 로직을 포함하지 않음\n",
        "* controller class\n",
        "  * 데이터를 받고 전달. 요청을 라우팅하는 메소드를 포함\n",
        "\n",
        "## MVC 패턴 사용\n",
        "* 비즈니스 로직을 건드리지 않고 표현 계층만 수정 해야하는 경우\n",
        "* 유저 인터페이스를 수정하는데 다수의 컨트롤러와 뷰가 사용\n",
        "* 모델은 뷰를 수정하지 않아도 변경될 수 있으므로 독립적임\n",
        "\n",
        "## MVC 패턴의 목적\n",
        "* 데이터 조작과 표현을 분리\n",
        "* 쉬운 유지 보수의 구현\n",
        "* 유연한 데이터 저장과 표현 방식의 수정. 서로 독립적이므로 쉽게 수정할 수 있음"
      ]
    },
    {
      "cell_type": "markdown",
      "metadata": {
        "id": "YUw_fwlf_3P1"
      },
      "source": [
        "## 모델 - 애플리케이션의 뇌\n",
        "* 뷰와 컨트롤러와는 독립적인 애플리케이션의 일부. 뷰와 컨트롤러는 모델에 의존적임\n",
        "* 모델은사용자가 요청한 데이터를 제공\n",
        "* 모델은 반드시 여러 작업 간의 일관성을 유지해야함. 그렇지 않으면 사용자는 일관성 없는 오래된 데이터를 전달 받음\n",
        "* 모델은 완전히 독립적. 개발자는 뷰와 상관없이 모델의 유지보수에만 집중할 수 있음\n",
        "\n",
        "## 뷰 - 외모\n",
        "* 사용자가 인터페이스에서 보게 되는 데이터의 시각적 표현\n",
        "* 뷰를 독립적으로 작성할 수 있으나 복잡한 로직을 포함하면 안됨\n",
        "* 모든 로직은 컨트롤러나 모델에 포함돼야함\n",
        "* 뷰는 데이터베이스와 직접 통신하지 않고 원하는 정보를 얻기 위해 모델에 의존해야함\n",
        "\n",
        "## 컨트롤러 - 접착제\n",
        "* 사용자의 행동을 제어. 사용자가 인터페이스 내의 특정 요소를 클릭하면 행동에 따라 컨트롤러는 모델을 호출해 데이터를 생성 또는 갱신함\n",
        "* 컨트롤러는 뷰에 데이터를 전달하고 뷰는 해당 데이터를 렌더링해 사용자에게 보여줌\n",
        "*"
      ]
    },
    {
      "cell_type": "code",
      "metadata": {
        "colab": {
          "base_uri": "https://localhost:8080/"
        },
        "id": "aDzdngyh9bED",
        "outputId": "68d9afe8-d726-4be7-9810-036d61743683"
      },
      "source": [
        "class Model(object):\n",
        "  services = {\n",
        "      'email': {\n",
        "          'number': 1000,\n",
        "          'price': 2\n",
        "      },\n",
        "      'sms': {\n",
        "          'number': 1000,\n",
        "          'price': 10\n",
        "      },\n",
        "      'voice': {\n",
        "          'number': 1000,\n",
        "          'price': 15\n",
        "      }\n",
        "  }\n",
        "\n",
        "\n",
        "\n",
        "class View(object):\n",
        "  def list_services(self, services):\n",
        "    for svc in services:\n",
        "      print(svc, '  ')\n",
        "    \n",
        "  def list_pricing(self, services):\n",
        "    for svc in services:\n",
        "      print('For', Model.services[svc]['number'], svc, 'message you pay $', Model.services[svc]['price'])\n",
        "\n",
        "\n",
        "class Controller(object):\n",
        "  def __init__(self):\n",
        "    self.model = Model()\n",
        "    self.view = View()\n",
        "\n",
        "  def get_service(self):\n",
        "    services = self.model.services.keys()\n",
        "    return self.view.list_services(services)\n",
        "  \n",
        "  def get_pricing(self):\n",
        "    services = self.model.services.keys()\n",
        "    return self.view.list_pricing(services)\n",
        "\n",
        "\n",
        "class Client(object):\n",
        "  controller = Controller()\n",
        "  print('Services Provided: ')\n",
        "  controller.get_service()\n",
        "  print('Pricing for Services')\n",
        "  controller.get_pricing()"
      ],
      "execution_count": 3,
      "outputs": [
        {
          "output_type": "stream",
          "name": "stdout",
          "text": [
            "Services Provided: \n",
            "email   \n",
            "sms   \n",
            "voice   \n",
            "Pricing for Services\n",
            "For 1000 email message you pay $ 2\n",
            "For 1000 sms message you pay $ 10\n",
            "For 1000 voice message you pay $ 15\n"
          ]
        }
      ]
    }
  ]
}
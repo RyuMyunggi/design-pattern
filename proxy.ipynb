{
  "nbformat": 4,
  "nbformat_minor": 0,
  "metadata": {
    "colab": {
      "name": "proxy.ipynb",
      "provenance": [],
      "authorship_tag": "ABX9TyNOlgA/zrwYaXfbosIbxTd+",
      "include_colab_link": true
    },
    "kernelspec": {
      "name": "python3",
      "display_name": "Python 3"
    },
    "language_info": {
      "name": "python"
    }
  },
  "cells": [
    {
      "cell_type": "markdown",
      "metadata": {
        "id": "view-in-github",
        "colab_type": "text"
      },
      "source": [
        "<a href=\"https://colab.research.google.com/github/RyuMyunggi/design-pattern/blob/main/proxy.ipynb\" target=\"_parent\"><img src=\"https://colab.research.google.com/assets/colab-badge.svg\" alt=\"Open In Colab\"/></a>"
      ]
    },
    {
      "cell_type": "markdown",
      "metadata": {
        "id": "ULbrhQ2JByHs"
      },
      "source": [
        "## 프록시 패턴\n"
      ]
    },
    {
      "cell_type": "markdown",
      "metadata": {
        "id": "2wwiCe4NB9cG"
      },
      "source": [
        "## 프록시\n",
        "* 프록시란 요청자와 공급자 사이의 중재자를 일컫는 말\n",
        "* 요청자는 요청을 하고 공급자는 요청에 맞는 리소스를 전달. 웹 관점에서는 프록시 서버기 이에 해당됨\n",
        "* 프록시 서버는 요청을 캡슐화하기 때문에 안전하며 분산 시스템 구조에 적합\n",
        "\n",
        "## 디자인 패턴에서의 Proxy\n",
        "* 객체의 인터페이스 역할 \n",
        "  * 여기서의 객체란 네트워크 연결 또는 메모리, 파일에 저장된 객채 등의 다양한 종류에 해당\n",
        "* Proxy 클래스는 반환해 사용할 객체를 감싸는 포장지 또는 에이전트 객체\n",
        "* 프록시는 객체 클래스의 구현과 상관없이 감싸려는 객체에 대한 기능을 제공\n",
        "\n",
        "## 프록시 패턴의 역할\n",
        "* 복잡한 시스템을 간단하게 표현 할 수 있음. (ex. 복잡한 계산이나 프로시저를 포함하는 시스템은 클라이언트를 위해 프록시 역할을 하는 인터페이스를 제공해야함)\n",
        "* ```객체에 대한 보안을 제공함```. 일반적으로 클라이언트는 객체에 직접 접근 할 수 없음. 객체가 악의적인 활동에 의해 변형될 수 있기 때문. 의도치 않은 케이스로부터 객체를 보호. 프록시는 객체를 보호하는 방패의 역할을 함\n",
        "* 다른 서버에 존재하는 외부 객체에 대한 로컬 인터페이스를 제공함. 분산 시스템 구조에서 클라이언트가 원격으로 특정 커맨드를 권한이 없어 수행하지 못하는 경우가 있음. 이런 경우 로컬 객체에 요청을 보내고 프록시는 원격 서버에서 요청을 수행함\n",
        "* 메모리 사용량이 높은 객체를 다루는 가벼운 핸들러 역할을 함. 메인 객체가 반드시 필요한 상황에만 생성해야하는 경우가 있음. 객체의 크기가 크고 많은 리소스를 필요로 하기 때문. 예를 들어 웹 사이트 사용자의 프로필 사진은 목록에는 작은 이미지로 표시하고 세부 프로필을 보여줄 때만 실제 사진을 로드하는 것이 효율적임 "
      ]
    },
    {
      "cell_type": "markdown",
      "metadata": {
        "id": "By-a9q4_aEBV"
      },
      "source": [
        "## 프록시의 유형\n",
        "\n",
        "1. 가상 프록시\n",
        "* 인스턴스화 하기에는 무거운 객체의 플레이스 홀더 역할을 함\n",
        "* ex) 웹 사이트에서 큰 이미지를 불러와야하는 경우 불러오는데 오랜 시간이 걸리기 떄문에 이미지가 있음을 알리는 아이콘을 표시\n",
        "* 가상 프록시는 클라이언트가 객체를 처음 요청하거나 접근 했근 했을 때 실 객체를 생성\n",
        "\n",
        "2. 원격 프로시\n",
        "* 원격 서버나 다른 주소 공간에 존재하는 객체에 대한 로컬 인스턴스 생성\n",
        "* ex) 다수의 웹 서버와 데이터베이스 서버, 작업 서버, 캐시 서버 등으로 구성된 애플리케이션의 모니터링 시스템을 구성한다고 했을 때 각 서버의 실제 사용량 수치를 얻는 원격 명령을 수행 할 수 있어야함\n",
        "* 이런 경우 원격 객체를 로컬에서 제어할 수 있는 원격 프로시 객체를 생성하면 유용\n",
        "\n",
        "3. 보호 프록시\n",
        "* 중요한 부분에 대한 접근을 제어\n",
        "* ex) 분산 시스템에서 웹 애플리케이션은 여러 서비스를 조합해 기능을 제공. 이런 구조에서는 인증 서비스가 보호 프록시 서버임. 웹 사이트의 핵심 기능을 허가 받지 않은 에어전트로부터 부호\n",
        "\n",
        "4. 스마트 프록시\n",
        "* 사용자가 객체에 접근 했을 때 추가적인 행동을 함\n",
        "* ex) 시스템 내의 여러 서비스가 동시에 기능을 호출하면 리소스 공유에 문제가 생길 수 있음. 이런 경우 각 서비스가 이 기능을 직접호출하는 것이 아닌 스마트 프록시가 객체의 잠근 상태를 확인하는 기능을 추가로 수행해 접근을 제어함"
      ]
    },
    {
      "cell_type": "code",
      "metadata": {
        "colab": {
          "base_uri": "https://localhost:8080/"
        },
        "id": "g5qpXn3qBxoe",
        "outputId": "b2e871b2-3b23-4711-b530-6096b84c1291"
      },
      "source": [
        "class Actor(object):\n",
        "  def __init__(self):\n",
        "    self.isBusy = False\n",
        "\n",
        "  def occupied(self):\n",
        "    self.isBusy = True\n",
        "    print(type(self).__name__, 'is occupied with current movie')\n",
        "\n",
        "  def available(self):\n",
        "    self.isBusy = False\n",
        "    print(type(self).__name__, 'is free for the movie')\n",
        "\n",
        "  def getStatus(self):\n",
        "    return self.isBusy\n",
        "\n",
        "\n",
        "class Agent(object):\n",
        "  def __init__(self):\n",
        "    self.principal = None\n",
        "\n",
        "  def work(self):\n",
        "    self.actor = Actor()\n",
        "    if self.actor.getStatus():\n",
        "      self.actor.occupied()\n",
        "\n",
        "r = Agent()\n",
        "r.work"
      ],
      "execution_count": null,
      "outputs": [
        {
          "output_type": "execute_result",
          "data": {
            "text/plain": [
              "<bound method Agent.work of <__main__.Agent object at 0x7f9499652910>>"
            ]
          },
          "metadata": {},
          "execution_count": 1
        }
      ]
    },
    {
      "cell_type": "code",
      "metadata": {
        "colab": {
          "base_uri": "https://localhost:8080/"
        },
        "id": "RYL9A0b_kJHs",
        "outputId": "dda25637-76ca-4fd7-af48-fd926e75ed71"
      },
      "source": [
        "# 프록시 패턴 사용 사례: 백화점 시스템\n",
        "\n",
        "# clinet\n",
        "class You(object):\n",
        "  def __init__(self):\n",
        "    print('You:: Lets buy Denim shirt')\n",
        "    self.debitCard = DebitCard()\n",
        "    self.isPurchased = None\n",
        "\n",
        "  def make_payment(self):\n",
        "    self.isPurchased = self.debitCard.do_pay()\n",
        "\n",
        "  def __del__(self):\n",
        "    if self.isPurchased:\n",
        "      print('You:: Wow! Denim shirt is Mine :-)')\n",
        "    else:\n",
        "      print('You:: I should earn more :(')\n",
        "\n",
        "you = You()\n",
        "you.make_payment()"
      ],
      "execution_count": 18,
      "outputs": [
        {
          "output_type": "stream",
          "name": "stdout",
          "text": [
            "You:: Lets buy Denim shirt\n",
            "You:: Wow! Denim shirt is Mine :-)\n",
            "Proxy:: Punch in Card Number: 234-436-567-324\n",
            "Bank:: Checking if Account None has enough funds\n",
            "Bank:: Paying the merchant\n"
          ]
        }
      ]
    },
    {
      "cell_type": "code",
      "metadata": {
        "id": "tRidoFqb4-O2"
      },
      "source": [
        "# RealSubject가 구현할 인터페이스\n",
        "\n",
        "from abc import ABCMeta\n",
        "from abc import abstractmethod\n",
        "\n",
        "class Payment(metaclass=ABCMeta):\n",
        "  @abstractmethod\n",
        "  def do_pay(self):\n",
        "    pass\n"
      ],
      "execution_count": 9,
      "outputs": []
    },
    {
      "cell_type": "code",
      "metadata": {
        "id": "5E8EiqBb5j-F"
      },
      "source": [
        "class Bank(Payment):\n",
        "  def __init__(self):\n",
        "    self.card = None\n",
        "    self.account = None\n",
        "\n",
        "  def __getAccount(self):\n",
        "    self.acocunt = self.card\n",
        "    return self.account\n",
        "  \n",
        "  def __hasFunds(self):\n",
        "    print('Bank:: Checking if Account', self.__getAccount(), 'has enough funds')\n",
        "    return True\n",
        "\n",
        "  def setCard(self, card):\n",
        "    self.card = card\n",
        "\n",
        "  def do_pay(self):\n",
        "    if self.__hasFunds():\n",
        "      print('Bank:: Paying the merchant')\n",
        "      return True\n",
        "    else:\n",
        "      print('Bank:: Sorry, not enough funds!')\n",
        "      return False\n",
        "    "
      ],
      "execution_count": 16,
      "outputs": []
    },
    {
      "cell_type": "code",
      "metadata": {
        "id": "pi-K8_cJ6vEd"
      },
      "source": [
        "class DebitCard(Payment):\n",
        "  def __init__(self):\n",
        "    self.bank = Bank()\n",
        "\n",
        "  def do_pay(self):\n",
        "    card = input('Proxy:: Punch in Card Number: ')\n",
        "    self.bank.setCard(card)\n",
        "    return self.bank.do_pay()"
      ],
      "execution_count": 14,
      "outputs": []
    },
    {
      "cell_type": "markdown",
      "metadata": {
        "id": "5qv9mMpG5a2_"
      },
      "source": [
        "## 프록시 패턴의 장점\n",
        "\n",
        "* 무거운 객체 특히 자주 사용되는 객체를 캐싱해 애플리케이셔의 성능을 향상 시킬 수 있음\n",
        "* RealSubject에 대한 접근 요청을 인증. 알맞은 권한이 있을 대만 유효\n",
        "* 원격 프로시는 원격 서버 간의 네트워크 연결과 데이터 베이스 연결 구현에 적합하며 시스템 모니터링 용도로 사용될 수 있음\n",
        "* RealSubject 코드를 수정하지 않고 기능을 추가할 수 있음. 프록시와 RealSubject는 동일한 인터페이스를 구현하기 때문\n",
        "\n",
        "### 프록시 패턴의 단점\n",
        "* 프록시 패턴으로 인해 응답 시간이 늘어날 수 있음\n",
        "* 프록시가 제대로 설계되지 않거나 성능에 문제가 있다면 RealSubject의 응답 시간에 영향을 줄 수 있음\n",
        "* 일반적으로 프록시를 얼마나 잘 구현했는지에 따라 결정됨"
      ]
    },
    {
      "cell_type": "markdown",
      "metadata": {
        "id": "5XPFSuHkXxVW"
      },
      "source": [
        "## 퍼사드 패턴 vs 프록시 패턴\n",
        "* 퍼사드 패턴과 프록시 패턴은 구조 디자인 패턴\n",
        "* 실 객체를 두는 구조가 같음\n",
        "* 하지만 패턴을 사용하는 목적이 다름\n",
        "\n",
        "### 퍼사드 패턴\n",
        "* 클래스의 서브 시스템에 대한 인터페이스를 제공\n",
        "* 서브 시스템 간의 의존도와 통신을 최소화함\n",
        "* 퍼사드 객체는 하나의 통합된 간단한 인터페이스를 제공\n",
        "\n",
        "### 프록시 패턴\n",
        "* 실 객체의 대리 객체를 제공해 접근을 제어\n",
        "* 타겟 객체와 동일한 인터페이스 구조를 가지며 타겟에 대한 참조를 가짐\n",
        "* 클라이언트와 감싸고 있는 객체 사이의 중재자 역할을 함"
      ]
    }
  ]
}
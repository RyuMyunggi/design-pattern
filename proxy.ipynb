{
  "nbformat": 4,
  "nbformat_minor": 0,
  "metadata": {
    "colab": {
      "name": "proxy.ipynb",
      "provenance": [],
      "authorship_tag": "ABX9TyPDTG53tfz18nt9aByRDxt3",
      "include_colab_link": true
    },
    "kernelspec": {
      "name": "python3",
      "display_name": "Python 3"
    },
    "language_info": {
      "name": "python"
    }
  },
  "cells": [
    {
      "cell_type": "markdown",
      "metadata": {
        "id": "view-in-github",
        "colab_type": "text"
      },
      "source": [
        "<a href=\"https://colab.research.google.com/github/RyuMyunggi/design-pattern/blob/main/proxy.ipynb\" target=\"_parent\"><img src=\"https://colab.research.google.com/assets/colab-badge.svg\" alt=\"Open In Colab\"/></a>"
      ]
    },
    {
      "cell_type": "markdown",
      "metadata": {
        "id": "ULbrhQ2JByHs"
      },
      "source": [
        "## 프록시 패턴\n"
      ]
    },
    {
      "cell_type": "markdown",
      "metadata": {
        "id": "2wwiCe4NB9cG"
      },
      "source": [
        "## 프록시\n",
        "* 프록시란 요청자와 공급자 사이의 중재자를 일컫는 말\n",
        "* 요청자는 요청을 하고 공급자는 요청에 맞는 리소스를 전달. 웹 관점에서는 프록시 서버기 이에 해당됨\n",
        "* 프록시 서버는 요청을 캡슐화하기 때문에 안전하며 분산 시스템 구조에 적합\n",
        "\n",
        "## 디자인 패턴에서의 Proxy\n",
        "* 객체의 인터페이스 역할 \n",
        "  * 여기서의 객체란 네트워크 연결 또는 메모리, 파일에 저장된 객채 등의 다양한 종류에 해당\n",
        "* Proxy 클래스는 반환해 사용할 객체를 감싸는 포장지 또는 에이전트 객체\n",
        "* 프록시는 객체 클래스의 구현과 상관없이 감싸려는 객체에 대한 기능을 제공\n",
        "\n",
        "## 프록시 패턴의 역할\n",
        "* 복잡한 시스템을 간단하게 표현 할 수 있음. (ex. 복잡한 계산이나 프로시저를 포함하는 시스템은 클라이언트를 위해 프록시 역할을 하는 인터페이스를 제공해야함)\n",
        "* ```객체에 대한 보안을 제공함```. 일반적으로 클라이언트는 객체에 직접 접근 할 수 없음. 객체가 악의적인 활동에 의해 변형될 수 있기 때문. 의도치 않은 케이스로부터 객체를 보호. 프록시는 객체를 보호하는 방패의 역할을 함\n",
        "* 다른 서버에 존재하는 외부 객체에 대한 로컬 인터페이스를 제공함. 분산 시스템 구조에서 클라이언트가 원격으로 특정 커맨드를 권한이 없어 수행하지 못하는 경우가 있음. 이런 경우 로컬 객체에 요청을 보내고 프록시는 원격 서버에서 요청을 수행함\n",
        "* 메모리 사용량이 높은 객체를 다루는 가벼운 핸들러 역할을 함. 메인 객체가 반드시 필요한 상황에만 생성해야하는 경우가 있음. 객체의 크기가 크고 많은 리소스를 필요로 하기 때문. 예를 들어 웹 사이트 사용자의 프로필 사진은 목록에는 작은 이미지로 표시하고 세부 프로필을 보여줄 때만 실제 사진을 로드하는 것이 효율적임 "
      ]
    },
    {
      "cell_type": "code",
      "metadata": {
        "colab": {
          "base_uri": "https://localhost:8080/"
        },
        "id": "g5qpXn3qBxoe",
        "outputId": "b2e871b2-3b23-4711-b530-6096b84c1291"
      },
      "source": [
        "class Actor(object):\n",
        "  def __init__(self):\n",
        "    self.isBusy = False\n",
        "\n",
        "  def occupied(self):\n",
        "    self.isBusy = True\n",
        "    print(type(self).__name__, 'is occupied with current movie')\n",
        "\n",
        "  def available(self):\n",
        "    self.isBusy = False\n",
        "    print(type(self).__name__, 'is free for the movie')\n",
        "\n",
        "  def getStatus(self):\n",
        "    return self.isBusy\n",
        "\n",
        "\n",
        "class Agent(object):\n",
        "  def __init__(self):\n",
        "    self.principal = None\n",
        "\n",
        "  def work(self):\n",
        "    self.actor = Actor()\n",
        "    if self.actor.getStatus():\n",
        "      self.actor.occupied()\n",
        "\n",
        "r = Agent()\n",
        "r.work"
      ],
      "execution_count": 1,
      "outputs": [
        {
          "output_type": "execute_result",
          "data": {
            "text/plain": [
              "<bound method Agent.work of <__main__.Agent object at 0x7f9499652910>>"
            ]
          },
          "metadata": {},
          "execution_count": 1
        }
      ]
    }
  ]
}
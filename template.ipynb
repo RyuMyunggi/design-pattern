{
  "nbformat": 4,
  "nbformat_minor": 0,
  "metadata": {
    "colab": {
      "name": "template.ipynb",
      "provenance": [],
      "authorship_tag": "ABX9TyO8K21bchILPYZo3cFTPkvu",
      "include_colab_link": true
    },
    "kernelspec": {
      "name": "python3",
      "display_name": "Python 3"
    },
    "language_info": {
      "name": "python"
    }
  },
  "cells": [
    {
      "cell_type": "markdown",
      "metadata": {
        "id": "view-in-github",
        "colab_type": "text"
      },
      "source": [
        "<a href=\"https://colab.research.google.com/github/RyuMyunggi/design-pattern/blob/main/template.ipynb\" target=\"_parent\"><img src=\"https://colab.research.google.com/assets/colab-badge.svg\" alt=\"Open In Colab\"/></a>"
      ]
    },
    {
      "cell_type": "markdown",
      "metadata": {
        "id": "7uRTr3QLMQqP"
      },
      "source": [
        "## 템플릿 메소드 패턴: 알고리즘의 캡슐화"
      ]
    },
    {
      "cell_type": "markdown",
      "metadata": {
        "id": "ipyIvCGaMWzZ"
      },
      "source": [
        "## 템플릿 메소드패턴\n",
        "* 템플릿 메소드패턴은 행동 디자인 패턴의 한 종류로 애플리케이션의 뼈대나 핵심 알고리즘을템플릿 메소드에 정의함\n",
        "* 템플릿 메소드 패턴은 알고리즘의 일부 단계를 서브클래스화해 알고리즘의 부분적 수정 및 재정의를 쉽게 함. 즉 서브 클래스를 자유롭게 재정의할 수 있음\n",
        "* 서브 클래스를 재정의해 완전히 다른 기능이나 알고리즘을 쉽게 구현할 수 있음\n",
        "* 소프트웨어 개발의 관점에서 템플릿 디자인 패턴의 알고리즘의 각단계는 개별적인 추상 클래스임\n",
        "\n",
        "## 템플릿 메소드 패턴이 적합한 상황\n",
        "* 여러 알고리즘 또는 클래스가 비슷하거나 같은 로직을 구현 할 때\n",
        "* 알고리즘을 단계별로 서브클래스화해 코드의 중복을 줄일 수있는 경우\n",
        "* 서브 클래스를 오버라이드해 여러 알고리즘을 구현할 수 있는 경우\n",
        "\n",
        "## 템플릿 메소드 패턴의 목적\n",
        "* 알고리즘의 뼈대를 원시 연산으로 구현\n",
        "* 알고리즘의 구조를 수정하지 않고 일부 서브 클래스를 재정의\n",
        "* 코드의 재사용과 중복 최소화\n",
        "* 공통 인터페이스 및 구현 활용\n"
      ]
    },
    {
      "cell_type": "code",
      "metadata": {
        "colab": {
          "base_uri": "https://localhost:8080/"
        },
        "id": "qBSdjGOzL5py",
        "outputId": "310fd2b3-0c2a-4590-9d31-3737d31eec01"
      },
      "source": [
        "from abc import ABCMeta\n",
        "from abc import abstractmethod\n",
        "\n",
        "\n",
        "class Compiler(metaclass=ABCMeta):\n",
        "  @abstractmethod\n",
        "  def collectSource(self):\n",
        "    pass\n",
        "\n",
        "  @abstractmethod\n",
        "  def compileToObject(self):\n",
        "    pass\n",
        "\n",
        "  @abstractmethod\n",
        "  def run(self):\n",
        "    pass\n",
        "\n",
        "  def compileAndRun(self):\n",
        "    self.collectSource()\n",
        "    self.compileToObject()\n",
        "    self.run()\n",
        "\n",
        "\n",
        "class iOSCompiler(Compiler):\n",
        "  def collectSource(self):\n",
        "    print('Collecting Swift Source Code')\n",
        "\n",
        "  def compileToObject(self):\n",
        "    print('Compiling Swifg code to LLVM bitcode')\n",
        "  \n",
        "  def run(self):\n",
        "    print('Program running on runtime enviroment')\n",
        "\n",
        "\n",
        "iOS = iOSCompiler()\n",
        "iOS.compileAndRun()"
      ],
      "execution_count": 2,
      "outputs": [
        {
          "output_type": "stream",
          "name": "stdout",
          "text": [
            "Collecting Swift Source Code\n",
            "Compiling Swifg code to LLVM bitcode\n",
            "Program running on runtime enviroment\n"
          ]
        }
      ]
    },
    {
      "cell_type": "code",
      "metadata": {
        "id": "Vd5v1Ne1gr0E"
      },
      "source": [
        ""
      ],
      "execution_count": null,
      "outputs": []
    },
    {
      "cell_type": "code",
      "metadata": {
        "colab": {
          "base_uri": "https://localhost:8080/"
        },
        "id": "7Yj-MkzIbnVm",
        "outputId": "1fa220bf-83ed-40f4-9fec-3ada97cfe7c3"
      },
      "source": [
        "class AbstractClass(metaclass=ABCMeta):\n",
        "  def __init__(self):\n",
        "    pass\n",
        "\n",
        "  @abstractmethod\n",
        "  def operation1(self):\n",
        "    pass\n",
        "\n",
        "  @abstractmethod\n",
        "  def operation2(self):\n",
        "    pass\n",
        "\n",
        "  def template_method(self):\n",
        "    print('Defining the Algorithm. Operation1 follows Operation2')\n",
        "    self.operation1()\n",
        "    self.operation2()\n",
        "\n",
        "\n",
        "class ConcreateClass(AbstractClass):\n",
        "  def operation1(self):\n",
        "    print('My Concreate Operation1')\n",
        "\n",
        "  def operation2(self):\n",
        "    print('Operation 2 remains same')\n",
        "\n",
        "  \n",
        "class Client:\n",
        "  def main(self):\n",
        "    self.concreate = ConcreateClass()\n",
        "    self.concreate.template_method()\n",
        "\n",
        "\n",
        "client = Client()\n",
        "client.main()"
      ],
      "execution_count": 3,
      "outputs": [
        {
          "output_type": "stream",
          "name": "stdout",
          "text": [
            "Defining the Algorithm. Operation1 follows Operation2\n",
            "My Concreate Operation1\n",
            "Operation 2 remains same\n"
          ]
        }
      ]
    },
    {
      "cell_type": "code",
      "metadata": {
        "id": "tdzgj5BrgslL"
      },
      "source": [
        "class Trip(metaclass=ABCMeta):\n",
        "  @abstractmethod\n",
        "  def setTransport(self):\n",
        "    pass\n",
        "\n",
        "  @abstractmethod\n",
        "  def day1(self):\n",
        "    pass\n",
        "\n",
        "  @abstractmethod\n",
        "  def day2(self):\n",
        "    pass\n",
        "  \n",
        "  @abstractmethod\n",
        "  def day3(self):\n",
        "    pass\n",
        "\n",
        "  @abstractmethod\n",
        "  def returnHome(self):\n",
        "    pass\n",
        "\n",
        "  def itinerary(self):\n",
        "    self.setTransport()\n",
        "    self.day1()\n",
        "    self.day2()\n",
        "    self.day3()\n",
        "    self.returnHome()"
      ],
      "execution_count": 9,
      "outputs": []
    },
    {
      "cell_type": "code",
      "metadata": {
        "id": "OoMWjL5ugp-6"
      },
      "source": [
        "class VeniceTrip(Trip):\n",
        "  def setTransport(self):\n",
        "    print('Take a boat and find your way in the Grand Canal')\n",
        "  \n",
        "  def day1(self):\n",
        "    print('Visit St Mark\\'s Bailica in St Mark\\'s Squre')\n",
        "  \n",
        "  def day2(self):\n",
        "    print('Appreciate Doge\\'s Palace')\n",
        "\n",
        "  def day3(self):\n",
        "    print('Enjoy the food near the Rialto Bridge')\n",
        "  \n",
        "  def returnHome(self):\n",
        "    print('Get souvenirs for friends and get back')\n",
        "\n",
        "\n",
        "class MaldivesTrip(Trip):\n",
        "  def setTransport(self):\n",
        "    print('On foot, On any island, Wow')\n",
        "  \n",
        "  def day1(self):\n",
        "    print('Enjoy the marine life of Banana Reef')\n",
        "  \n",
        "  def day2(self):\n",
        "    print('Go for the water sprots and snorkelling')\n",
        "\n",
        "  def day3(self):\n",
        "    print('Relax on the beach and enjoy the sun')\n",
        "  \n",
        "  def returnHome(self):\n",
        "    print('Don\\'t feel like leaving the beach...')"
      ],
      "execution_count": 10,
      "outputs": []
    },
    {
      "cell_type": "code",
      "metadata": {
        "colab": {
          "base_uri": "https://localhost:8080/"
        },
        "id": "GYR_Eb8MioOK",
        "outputId": "1f123b85-2473-4513-ab3a-e89f2f03c002"
      },
      "source": [
        "class TravelAgency:\n",
        "  def arrange_trip(self):\n",
        "    choice = input('What kind of place you\\'d like to go historical or to a beach')\n",
        "    if choice == 'historical':\n",
        "      self.trip = VeniceTrip()\n",
        "      self.trip.itinerary()\n",
        "    elif choice == 'beach':\n",
        "      self.trip = MaldivesTrip()\n",
        "      self.trip.itinerary()\n",
        "\n",
        "tripAgency = TravelAgency()\n",
        "tripAgency.arrange_trip()"
      ],
      "execution_count": 11,
      "outputs": [
        {
          "output_type": "stream",
          "name": "stdout",
          "text": [
            "What kind of place you'd like to go historical or to a beachbeach\n",
            "On foot, On any island, Wow\n",
            "Enjoy the marine life of Banana Reef\n",
            "Go for the water sprots and snorkelling\n",
            "Relax on the beach and enjoy the sun\n",
            "Don't feel like leaving the beach...\n"
          ]
        }
      ]
    },
    {
      "cell_type": "markdown",
      "metadata": {
        "id": "iUmsK-aXjfTP"
      },
      "source": [
        "## 후크\n",
        "* 추상 클래스에 정의된 메소드\n",
        "* 후크는 서브클래스가 알고리즘 중간 단계를 제어할 수 있는 기능을 제공\n",
        "* 서브 클래스는 후크를 반드시 사용하지 않아도됨\n",
        "* 즉 서브플래스가 반드시 구현 해야하는 부분은 추상 메소드를 사용하고 선택적인 부분은 후크를 사용 "
      ]
    },
    {
      "cell_type": "markdown",
      "metadata": {
        "id": "Vb929isSj8-z"
      },
      "source": [
        "## 템플릿 메소드 패턴의 장단점\n",
        "\n",
        "### 장점\n",
        "* 코드 중복이 없음\n",
        "* 컴포지션이 아닌 상속을 사용하므로 코드를 재활용할 수 있음. 일부 함수만 오버라이드 해서 사용하면 됨\n",
        "* 알고리즘의 각 단계를 서브플래스에서 구현할 수 있는 유연성을 제공함\n",
        "\n",
        "### 단점\n",
        "* 코드 디버깅 및 이해가 어려울 수 있음. 구현하지 않아도 메소드를 구현하거나 추상 메소드를 아예 구현하지 않은 실수를 저지를 수 있음. 에러 핸들링과 문서화가 필수적임\n",
        "* 어떤 계층이라도 수정한다면 전체 구조 및 구현에 영향을 줄 수 있어 유지보수가 어렵다"
      ]
    },
    {
      "cell_type": "code",
      "metadata": {
        "id": "d_OanjPXjegc"
      },
      "source": [
        ""
      ],
      "execution_count": null,
      "outputs": []
    }
  ]
}
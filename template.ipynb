{
  "nbformat": 4,
  "nbformat_minor": 0,
  "metadata": {
    "colab": {
      "name": "template.ipynb",
      "provenance": [],
      "authorship_tag": "ABX9TyOviIEcc24lv/urwSUhTv39",
      "include_colab_link": true
    },
    "kernelspec": {
      "name": "python3",
      "display_name": "Python 3"
    },
    "language_info": {
      "name": "python"
    }
  },
  "cells": [
    {
      "cell_type": "markdown",
      "metadata": {
        "id": "view-in-github",
        "colab_type": "text"
      },
      "source": [
        "<a href=\"https://colab.research.google.com/github/RyuMyunggi/design-pattern/blob/main/template.ipynb\" target=\"_parent\"><img src=\"https://colab.research.google.com/assets/colab-badge.svg\" alt=\"Open In Colab\"/></a>"
      ]
    },
    {
      "cell_type": "markdown",
      "metadata": {
        "id": "7uRTr3QLMQqP"
      },
      "source": [
        "## 템플릿 메소드 패턴: 알고리즘의 캡슐화"
      ]
    },
    {
      "cell_type": "markdown",
      "metadata": {
        "id": "ipyIvCGaMWzZ"
      },
      "source": [
        "## 템플릿 메소드패턴\n",
        "* 템플릿 메소드패턴은 행동 디자인 패턴의 한 종류로 애플리케이션의 뼈대나 핵심 알고리즘을템플릿 메소드에 정의함\n",
        "* 템플릿 메소드 패턴은 알고리즘의 일부 단계를 서브클래스화해 알고리즘의 부분적 수정 및 재정의를 쉽게 함. 즉 서브 클래스를 자유롭게 재정의할 수 있음\n",
        "* 서브 클래스를 재정의해 완전히 다른 기능이나 알고리즘을 쉽게 구현할 수 있음\n",
        "* 소프트웨어 개발의 관점에서 템플릿 디자인 패턴의 알고리즘의 각단계는 개별적인 추상 클래스임\n",
        "\n",
        "## 템플릿 메소드 패턴이 적합한 상황\n",
        "* 여러 알고리즘 또는 클래스가 비슷하거나 같은 로직을 구현 할 때\n",
        "* 알고리즘을 단계별로 서브클래스화해 코드의 중복을 줄일 수있는 경우\n",
        "* 서브 클래스를 오버라이드해 여러 알고리즘을 구현할 수 있는 경우\n",
        "\n",
        "## 템플릿 메소드 패턴의 목적\n",
        "* 알고리즘의 뼈대를 원시 연산으로 구현\n",
        "* 알고리즘의 구조를 수정하지 않고 일부 서브 클래스를 재정의\n",
        "* 코드의 재사용과 중복 최소화\n",
        "* 공통 인터페이스 및 구현 활용\n"
      ]
    },
    {
      "cell_type": "code",
      "metadata": {
        "colab": {
          "base_uri": "https://localhost:8080/"
        },
        "id": "qBSdjGOzL5py",
        "outputId": "659c576f-b15a-4207-e4b2-d7d875dcb550"
      },
      "source": [
        "from abc import ABCMeta\n",
        "from abc import abstractmethod\n",
        "\n",
        "\n",
        "class Compiler(metaclass=ABCMeta):\n",
        "  @abstractmethod\n",
        "  def collectSource(self):\n",
        "    pass\n",
        "\n",
        "  @abstractmethod\n",
        "  def compileToObject(self):\n",
        "    pass\n",
        "\n",
        "  @abstractmethod\n",
        "  def run(self):\n",
        "    pass\n",
        "\n",
        "  def compileAndRun(self):\n",
        "    self.collectSource()\n",
        "    self.compileToObject()\n",
        "    self.run()\n",
        "\n",
        "\n",
        "class iOSCompiler(Compiler):\n",
        "  def collectSource(self):\n",
        "    print('Collecting Swift Source Code')\n",
        "\n",
        "  def compileToObject(self):\n",
        "    print('Compiling Swifg code to LLVM bitcode')\n",
        "  \n",
        "  def run(self):\n",
        "    print('Program running on runtime enviroment')\n",
        "\n",
        "\n",
        "iOS = iOSCompiler()\n",
        "iOS.compileAndRun()"
      ],
      "execution_count": 1,
      "outputs": [
        {
          "output_type": "stream",
          "name": "stdout",
          "text": [
            "Collecting Swift Source Code\n",
            "Compiling Swifg code to LLVM bitcode\n",
            "Program running on runtime enviroment\n"
          ]
        }
      ]
    }
  ]
}
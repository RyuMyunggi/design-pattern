{
  "nbformat": 4,
  "nbformat_minor": 0,
  "metadata": {
    "colab": {
      "name": "facade.ipynb",
      "provenance": [],
      "authorship_tag": "ABX9TyMWvkJ9lMMELa41wTswPnBP",
      "include_colab_link": true
    },
    "kernelspec": {
      "name": "python3",
      "display_name": "Python 3"
    },
    "language_info": {
      "name": "python"
    }
  },
  "cells": [
    {
      "cell_type": "markdown",
      "metadata": {
        "id": "view-in-github",
        "colab_type": "text"
      },
      "source": [
        "<a href=\"https://colab.research.google.com/github/RyuMyunggi/design-pattern/blob/main/facade.ipynb\" target=\"_parent\"><img src=\"https://colab.research.google.com/assets/colab-badge.svg\" alt=\"Open In Colab\"/></a>"
      ]
    },
    {
      "cell_type": "markdown",
      "metadata": {
        "id": "LqnoLML3iEi7"
      },
      "source": [
        "## 퍼사드의 디자인 패턴"
      ]
    },
    {
      "cell_type": "markdown",
      "metadata": {
        "id": "vMCkBpfriWU0"
      },
      "source": [
        "## 구조 디자인 패턴\n",
        "* 구조 디자인 패턴은 객체와 객체와 클래스를 병합해 더 큰 구조를 만듦\n",
        "* 개체의 관계를 더 쉽게 식별할 수 있는 디자인 패턴. 개체란 객체지향 개념에서의 객체나 클래스를 가르킴\n",
        "* 클래스 패턴은 상속을 통해 추상화해 인터페이스를 제공하는 반면에 객체 패턴은 한 개의 객체를 더큰 객체로 확장시킴. 구조 패턴은 클래스 패턴과 객체 패턴을 합친 패턴"
      ]
    },
    {
      "cell_type": "markdown",
      "metadata": {
        "id": "93jAji9hi5Ik"
      },
      "source": [
        "## 구조 패턴의 예시\n",
        "* 어댑터 패턴: 클라이언트의 요구에 따라 특정 인터페이스를 다른 인터페이스에 맞춤. 서로 다른 클래스의 인터페이스를 목적에 맞춰 변환\n",
        "* 브릿지 패턴: 객체의 인터페이스와 구현을 분리해 독립적으로 동작할 수 있게함\n",
        "* 데코레이터 패턴: 런타임에 객체의 책임을 덧붙임. 인터페이스를 통해 객체에 속성을 추가\n",
        "* ```퍼사드 패턴```\n",
        "  * 복잡한 내부 시스템 로직을 감추고 클라이언트가 쉽게 시스템에 접근할 수 있는 인터페이스를 제공\n",
        "  * 서브 시스템의 인터페이스를 통합시킨 단일 인터페이스를 제공해 클라이언트가 쉽게 서브 시스템에 접근 할 수 있게 함\n",
        "  * 단일 인터페이스 객체로 복잡한 서브시스템을 대체. 서브시스템을 캡슐화하는 것이 아니라 모든 서브시스템들을 결합\n",
        "  * 클라이언트와 내부 구현을 분리함"
      ]
    },
    {
      "cell_type": "markdown",
      "metadata": {
        "id": "vSXbJkLNjuTh"
      },
      "source": [
        "## 퍼사드 패턴\n",
        "\n",
        "### 퍼사드 패턴의 구성원\n",
        "1. 퍼사드: 외부에서 보기에 깔금하도록 복잡한 서브시스템을 감싸는 역할을 함\n",
        "2. 시스템: 전체 시스템을 하나의 복잡한 복합체로 만드는 여러 서브시스템의 집합\n",
        "3. 클라이언트: 퍼사드를 통해 서브시스템과 통신. 복잡한 시스템 구조에 대해 전혀 알 필요가 없음\n",
        "\n",
        "### 퍼사드\n",
        "1. 어떤 서브시스템이 요청에 알맞는지 알고 있는 인터페이스\n",
        "2. 컴포지션을 통해 클라이언트의 요청을 적합한 서브시스템 객체에 전달\n",
        "3. 클라이언트가 특정 작업을 수행할 때 모든 관련 서브시스템에 요청하지 않고 메인 인터페이스(퍼사드)에만 요청을 보냄\n",
        "\n",
        "### 시스템\n",
        "1. 서브시스템의 기능을 구현하는 클래스. 이상적으로 시스템은 각기 다른 역할을 하는 클래스의 집합\n",
        "2. 퍼사드 객체가 지시한 일을 담당하지만 퍼사드의 존재도 모르며 참조하지도 않음\n",
        "3. 클라이언트가 퍼사드에 특정 서비스를 요청하면 퍼사드는 알맞은 서브시스템을 선택하고 반환\n",
        "\n",
        "### 클라이언트\n",
        "1. 클라이언트는 퍼사드를 인스턴스화 하는 클래스\n",
        "2. 퍼사드에 서브시스템을 통해 작업을 수행하도록 요청"
      ]
    },
    {
      "cell_type": "code",
      "metadata": {
        "id": "-Ig4QFSmh55J"
      },
      "source": [
        "class EventManager(object):\n",
        "  def __init__(self):\n",
        "    print('Event Manager:: Let me talk to the folks\\n')\n",
        "\n",
        "  def arrange(self):\n",
        "    self.hotelier = Hotelier() # 호텔 예약 담당\n",
        "    self.hotelier.bookHotel() # 해당 기간에 예약이 가능한지 확인하는 메소드\n",
        "\n",
        "    self.florist = Florist() # 생화 장식 담당\n",
        "    self.florist.setFlowerRequierments() # 꽃 장식에 어떤 꽃을 사용할지 설정하는 역할\n",
        "\n",
        "    self.caterer = Caterer() # 음식 공급 업체와요리 종류 선정을 담당\n",
        "    self.caterer.setCuisine() # 예식장에서 제공할 요리의 종류를 전달 받음\n",
        "\n",
        "    self.musician = Musician() # 결혼식에서 연줄 될 음악을 담당\n",
        "    self.musician.setMusicType() # 어떤 음악을 연주 할지 설정"
      ],
      "execution_count": 10,
      "outputs": []
    },
    {
      "cell_type": "code",
      "metadata": {
        "id": "Y0ikkPXJ-vmz"
      },
      "source": [
        "class Hotelier(object):\n",
        "  def __init__(self):\n",
        "    print('Arrange the Hotel for Marriage? --')\n",
        "\n",
        "  def __isAvailable(self):\n",
        "    print('Is the Hoel free for the event on given day?')\n",
        "    return True\n",
        "\n",
        "  def bookHotel(self):\n",
        "    if self.__isAvailable():\n",
        "      print('Registerd the Booking\\n\\n')\n",
        "\n",
        "\n",
        "class Florist(object):\n",
        "  def __init__(self):\n",
        "    print('Florist Decorations for the Event? --')\n",
        "\n",
        "  def setFlowerRequierments(self):\n",
        "    print('Carnations, Roses and Lilies would be used for Decorations \\n\\n')\n",
        "\n",
        "\n",
        "class Caterer(object):\n",
        "  def __init__(self):\n",
        "    print('Food Arrangements for the Events --')\n",
        "\n",
        "  def setCuisine(self):\n",
        "    print('Chinese & Continetal Cuisine to be served\\n\\n')\n",
        "\n",
        "\n",
        "class Musician(object):\n",
        "  def __init__(self):\n",
        "    print('Musician Arrangement for the Marriage --')\n",
        "\n",
        "  def setMusicType(self):\n",
        "    print('Jazz and Classical will be played\\n\\n')"
      ],
      "execution_count": 7,
      "outputs": []
    },
    {
      "cell_type": "code",
      "metadata": {
        "colab": {
          "base_uri": "https://localhost:8080/"
        },
        "id": "gziKEE_6-XYU",
        "outputId": "a44192e3-6666-4018-fc63-e0204795176b"
      },
      "source": [
        "class You(object):\n",
        "  def __init__(self):\n",
        "    print('You:: Whoa! Marriage Arragnements?!')\n",
        "\n",
        "  def askEventManager(self):\n",
        "    print('You:: Let`s Contact the Event Manager\\n\\n')\n",
        "    em = EventManager()\n",
        "    em.arrange()\n",
        "\n",
        "  def __del__(self):\n",
        "    print('You:: Thanks to Event Manager, all preparations done! Phew!')\n",
        "\n",
        "you = You()\n",
        "you.askEventManager()\n",
        "\n",
        "# EventManager는 You 클래스를 위해 인터페이스를간호화 해주는 퍼사드\n",
        "# EvnetManager는 컴포지션을 통해 Hotelier와 Caterer등의 서브시스템 객체를 생성"
      ],
      "execution_count": 11,
      "outputs": [
        {
          "output_type": "stream",
          "name": "stdout",
          "text": [
            "You:: Whoa! Marriage Arragnements?!\n",
            "You:: Let`s Contact the Event Manager\n",
            "\n",
            "\n",
            "Event Manager:: Let me talk to the folks\n",
            "\n",
            "Arrange the Hotel for Marriage? --\n",
            "Is the Hoel free for the event on given day?\n",
            "Registerd the Booking\n",
            "\n",
            "\n",
            "Florist Decorations for the Event? --\n",
            "Carnations, Roses and Lilies would be used for Decorations \n",
            "\n",
            "\n",
            "Food Arrangements for the Events --\n",
            "Chinese & Continetal Cuisine to be served\n",
            "\n",
            "\n",
            "Musician Arrangement for the Marriage --\n",
            "Jazz and Classical will be played\n",
            "\n",
            "\n"
          ]
        }
      ]
    },
    {
      "cell_type": "markdown",
      "metadata": {
        "id": "Jxo8dSzdBlc8"
      },
      "source": [
        "## 최소 지식 원칙\n",
        "* 퍼사드 패턴은 최소 지식 원칙을 기반으로 함\n",
        "* 최소 지식 원칙은 상호작용하는 객체를 밀접한 객체로 최소화함\n",
        "  * 시스템을 설계 할 때 생성하는 모든 객체가 몇 개의 클래스와 연관되며 어떤 식으로 대화하는지 알아야함\n",
        "  * 원칙에 따라 지나치게 서로 얽혀있는 클래스를 만드는 것을 지양해야 함\n",
        "  * 클래스 간의 의존도가 높아직수록 시스템 유지보수가 힘들어짐. 시스템의 한 부분을 수정하면 다른 부분이 의도치 않게 변경될 수 있음. 이런 회귀적인 구조는 피해야함"
      ]
    },
    {
      "cell_type": "markdown",
      "metadata": {
        "id": "to3o7UaRCNX4"
      },
      "source": [
        "### 퍼사드 정리\n",
        "* 퍼사드 디자인 패턴은 클라이언트에게 간소화된 인터페이스를 제공\n",
        "* 서브 시스템의 복잡성을 줄여 클라이언트의 일을 덜어줌\n",
        "* 퍼사드는 서브시스템을 캡슐화하지 않음\n",
        "* 클라이언트는 퍼사드를 통하지 않고 자유롭게 서브시스템에 접근할 수 있음"
      ]
    }
  ]
}
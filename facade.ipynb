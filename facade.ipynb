{
  "nbformat": 4,
  "nbformat_minor": 0,
  "metadata": {
    "colab": {
      "name": "facade.ipynb",
      "provenance": [],
      "authorship_tag": "ABX9TyNDlzVBoFBFizcqaCd3ad2c",
      "include_colab_link": true
    },
    "kernelspec": {
      "name": "python3",
      "display_name": "Python 3"
    },
    "language_info": {
      "name": "python"
    }
  },
  "cells": [
    {
      "cell_type": "markdown",
      "metadata": {
        "id": "view-in-github",
        "colab_type": "text"
      },
      "source": [
        "<a href=\"https://colab.research.google.com/github/RyuMyunggi/design-pattern/blob/main/facade.ipynb\" target=\"_parent\"><img src=\"https://colab.research.google.com/assets/colab-badge.svg\" alt=\"Open In Colab\"/></a>"
      ]
    },
    {
      "cell_type": "markdown",
      "metadata": {
        "id": "LqnoLML3iEi7"
      },
      "source": [
        "## 퍼사드의 디자인 패턴"
      ]
    },
    {
      "cell_type": "markdown",
      "metadata": {
        "id": "vMCkBpfriWU0"
      },
      "source": [
        "## 구조 디자인 패턴\n",
        "* 구조 디자인 패턴은 객체와 객체와 클래스를 병합해 더 큰 구조를 만듦\n",
        "* 개체의 관계를 더 쉽게 식별할 수 있는 디자인 패턴. 개체란 객체지향 개념에서의 객체나 클래스를 가르킴\n",
        "* 클래스 패턴은 상속을 통해 추상화해 인터페이스를 제공하는 반면에 객체 패턴은 한 개의 객체를 더큰 객체로 확장시킴. 구조 패턴은 클래스 패턴과 객체 패턴을 합친 패턴"
      ]
    },
    {
      "cell_type": "markdown",
      "metadata": {
        "id": "93jAji9hi5Ik"
      },
      "source": [
        "## 구조 패턴의 예시\n",
        "* 어댑터 패턴: 클라이언트의 요구에 따라 특정 인터페이스를 다른 인터페이스에 맞춤. 서로 다른 클래스의 인터페이스를 목적에 맞춰 변환\n",
        "* 브릿지 패턴: 객체의 인터페이스와 구현을 분리해 독립적으로 동작할 수 있게함\n",
        "* 데코레이터 패턴: 런타임에 객체의 책임을 덧붙임. 인터페이스를 통해 객체에 속성을 추가\n",
        "* ```퍼사드 패턴```\n",
        "  * 복잡한 내부 시스템 로직을 감추고 클라이언트가 쉽게 시스템에 접근할 수 있는 인터페이스를 제공\n",
        "  * 서브 시스템의 인터페이스를 통합시킨 단일 인터페이스를 제공해 클라이언트가 쉽게 서브 시스템에 접근 할 수 있게 함\n",
        "  * 단일 인터페이스 객체로 복잡한 서브시스템을 대체. 서브시스템을 캡슐화하는 것이 아니라 모든 서브시스템들을 결합\n",
        "  * 클라이언트와 내부 구현을 분리함"
      ]
    },
    {
      "cell_type": "markdown",
      "metadata": {
        "id": "vSXbJkLNjuTh"
      },
      "source": [
        "## 퍼사드 패턴\n",
        "\n",
        "### 퍼사드 패턴의 구성원\n",
        "1. 퍼사드: 외부에서 보기에 깔금하도록 복잡한 서브시스템을 감싸는 역할을 함\n",
        "2. 시스템: 전체 시스템을 하나의 복잡한 복합체로 만드는 여러 서브시스템의 집합\n",
        "3. 클라이언트: 퍼사드를 통해 서브시스템과 통신. 복잡한 시스템 구조에 대해 전혀 알 필요가 없음\n",
        "\n",
        "### 퍼사드\n",
        "1. 어떤 서브시스템이 요청에 알맞는지 알고 있는 인터페이스\n",
        "2. 컴포지션을 통해 클라이언트의 요청을 적합한 서브시스템 객체에 전달\n",
        "3. 클라이언트가 특정 작업을 수행할 때 모든 관련 서브시스템에 요청하지 않고 메인 인터페이스(퍼사드)에만 요청을 보냄\n",
        "\n",
        "### 시스템\n",
        "1. 서브시스템의 기능을 구현하는 클래스. 이상적으로 시스템은 각기 다른 역할을 하는 클래스의 집합\n",
        "2. 퍼사드 객체가 지시한 일을 담당하지만 퍼사드의 존재도 모르며 참조하지도 않음\n",
        "3. 클라이언트가 퍼사드에 특정 서비스를 요청하면 퍼사드는 알맞은 서브시스템을 선택하고 반환\n",
        "\n",
        "### 클라이언트\n",
        "1. 클라이언트는 퍼사드를 인스턴스화 하는 클래스\n",
        "2. 퍼사드에 서브시스템을 통해 작업을 수행하도록 요청"
      ]
    },
    {
      "cell_type": "code",
      "metadata": {
        "id": "-Ig4QFSmh55J"
      },
      "source": [
        ""
      ],
      "execution_count": null,
      "outputs": []
    }
  ]
}
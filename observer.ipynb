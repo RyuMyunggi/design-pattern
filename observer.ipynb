{
  "nbformat": 4,
  "nbformat_minor": 0,
  "metadata": {
    "colab": {
      "name": "observer.ipynb",
      "provenance": [],
      "authorship_tag": "ABX9TyMqM6NPldltVBhsXwVuljyp",
      "include_colab_link": true
    },
    "kernelspec": {
      "name": "python3",
      "display_name": "Python 3"
    },
    "language_info": {
      "name": "python"
    }
  },
  "cells": [
    {
      "cell_type": "markdown",
      "metadata": {
        "id": "view-in-github",
        "colab_type": "text"
      },
      "source": [
        "<a href=\"https://colab.research.google.com/github/RyuMyunggi/design-pattern/blob/main/observer.ipynb\" target=\"_parent\"><img src=\"https://colab.research.google.com/assets/colab-badge.svg\" alt=\"Open In Colab\"/></a>"
      ]
    },
    {
      "cell_type": "markdown",
      "metadata": {
        "id": "hwUDZuk2fY6k"
      },
      "source": [
        "## 옵져버 패턴"
      ]
    },
    {
      "cell_type": "markdown",
      "metadata": {
        "id": "YuvM7Kw0gLx9"
      },
      "source": [
        "## 행위 패턴\n",
        "\n",
        "* 행위패턴은 이름 그대로 객체의 역할에 초점을 둠\n",
        "* 더 큰 기능을 구현하기 위한 객체 간의 상호 작용을 중요시함\n",
        "* 행위 패턴에서의 객체는 상호 작용하지만 느슨하게 결합돼 있음\n",
        "* 옵져버 디자인 패턴은 가장 단순한 행위 패턴\n",
        "\n",
        "### 옵져버 패턴\n",
        "* 옵져버 패턴에서 객체(서브젝트)는 자식(옵져버)의 목록을 유지하며 서브젝트가 옵져버에 정의된 메소드를 호출 할 때 마다 옵져버에게 이를 알림\n",
        "* 애플리케이션을 구성하는 여러 서비스를 관리하는 코어 서비스는 옵져버의 상태를 모니터링하는 서브젝트임\n",
        "* 옵져버는 서브젝트의 상태에 따라 자신의 객체 상태를 변경하거나 필요한 연산을 수행\n",
        "* 이처럼 종속된 서비스가 코어 서비스의 상태를 참고하는 구조에서는 옵져버 디자인 패턴이 적합\n",
        "\n",
        "\n",
        "### 옵져버 패턴의 목적\n",
        "* 객체 간 일대다 관계를 형성하고 객체의 상태를 다른 종속 객체에 자동으로 알림\n",
        "* 서브젝트의 핵심 부분을 캡슐화함\n",
        "* 분산 시스템의 이벤트 서비스를 구현할 때"
      ]
    },
    {
      "cell_type": "markdown",
      "metadata": {
        "id": "WxncbeRAsxtJ"
      },
      "source": [
        "## 옵져버 패턴의 구성원\n",
        "\n",
        "1. Subject\n",
        "* Subject는 Observer를 관리함\n",
        "* Observer는 Subject 클래스의 register()와 deregister() 매소드를 호출해 자신을 등록\n",
        "* Subject는 여러 옵져버들을 관리\n",
        "\n",
        "2. Observer\n",
        "* 서브젝트를 감시하는 객체를 위한 인터페이스를 제공\n",
        "* 서브젝트의 상태르 알 수 있도록 ConcreaterObserver가 구현해야하는 메소드를 정의\n",
        "\n",
        "3. ConcreateObserver\n",
        "* Subject의 상태를 저장\n",
        "* 서브젝트에 대한 정보와 실제 상태를 일관되게 유지하기 위해 Observer 인터페이스를 구현\n",
        "\n",
        "ConcreateObserver는 Observer 인터페이스를구현해 자신을 Subject에 등록.\n",
        "상태 변화가 있을 때마다 Subject는 Observer의 알림 메소드를 통해 모든 ConcreateObserver에 알림"
      ]
    },
    {
      "cell_type": "code",
      "metadata": {
        "colab": {
          "base_uri": "https://localhost:8080/"
        },
        "id": "g_4ThW9wfSih",
        "outputId": "36a1194f-5329-43aa-cdaa-c64f9f8b4999"
      },
      "source": [
        "class Subjcet(object):\n",
        "  def __init__(self):\n",
        "    self.__observers = []\n",
        "\n",
        "  def register(self, observer):\n",
        "    self.__observers.append(observer)\n",
        "  \n",
        "  def notifyAll(self, *args, **kwargs):\n",
        "    for observer in self.__observers:\n",
        "      observer.notify(self, *args, **kwargs)\n",
        "\n",
        "\n",
        "class Observer1(object):\n",
        "  def __init__(self, subject):\n",
        "    subject.register(self)\n",
        "\n",
        "  def notify(self, subject, *args):\n",
        "    print(type(self).__name__, ':: Got', args, 'From', subject)\n",
        "\n",
        "\n",
        "class Observer2(object):\n",
        "  def __init__(self, subject):\n",
        "    subject.register(self)\n",
        "\n",
        "  def notify(self, subject, *args):\n",
        "    print(type(self).__name__, ':: Got', args, 'From', subject)\n",
        "\n",
        "\n",
        "subject = Subjcet()\n",
        "observer1 = Observer1(subject)\n",
        "observer2 = Observer2(subject)\n",
        "\n",
        "subject.notifyAll('notifycation')"
      ],
      "execution_count": 6,
      "outputs": [
        {
          "output_type": "stream",
          "name": "stdout",
          "text": [
            "Observer1 :: Got ('notifycation',) From <__main__.Subjcet object at 0x7fd694cc5150>\n",
            "Observer2 :: Got ('notifycation',) From <__main__.Subjcet object at 0x7fd694cc5150>\n"
          ]
        }
      ]
    },
    {
      "cell_type": "code",
      "metadata": {
        "id": "pUov4F3TqzUa"
      },
      "source": [
        ""
      ],
      "execution_count": null,
      "outputs": []
    }
  ]
}
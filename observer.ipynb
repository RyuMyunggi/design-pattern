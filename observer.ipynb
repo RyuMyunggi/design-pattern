{
  "nbformat": 4,
  "nbformat_minor": 0,
  "metadata": {
    "colab": {
      "name": "observer.ipynb",
      "provenance": [],
      "authorship_tag": "ABX9TyPxsDhfZbh60jdSJgGT35rw",
      "include_colab_link": true
    },
    "kernelspec": {
      "name": "python3",
      "display_name": "Python 3"
    },
    "language_info": {
      "name": "python"
    }
  },
  "cells": [
    {
      "cell_type": "markdown",
      "metadata": {
        "id": "view-in-github",
        "colab_type": "text"
      },
      "source": [
        "<a href=\"https://colab.research.google.com/github/RyuMyunggi/design-pattern/blob/main/observer.ipynb\" target=\"_parent\"><img src=\"https://colab.research.google.com/assets/colab-badge.svg\" alt=\"Open In Colab\"/></a>"
      ]
    },
    {
      "cell_type": "markdown",
      "metadata": {
        "id": "hwUDZuk2fY6k"
      },
      "source": [
        "## 옵져버 패턴"
      ]
    },
    {
      "cell_type": "markdown",
      "metadata": {
        "id": "YuvM7Kw0gLx9"
      },
      "source": [
        "## 행위 패턴\n",
        "\n",
        "* 행위패턴은 이름 그대로 객체의 역할에 초점을 둠\n",
        "* 더 큰 기능을 구현하기 위한 객체 간의 상호 작용을 중요시함\n",
        "* 행위 패턴에서의 객체는 상호 작용하지만 느슨하게 결합돼 있음\n",
        "* 옵져버 디자인 패턴은 가장 단순한 행위 패턴\n",
        "\n",
        "### 옵져버 패턴\n",
        "* 옵져버 패턴에서 객체(서브젝트)는 자식(옵져버)의 목록을 유지하며 서브젝트가 옵져버에 정의된 메소드를 호출 할 때 마다 옵져버에게 이를 알림\n",
        "* 애플리케이션을 구성하는 여러 서비스를 관리하는 코어 서비스는 옵져버의 상태를 모니터링하는 서브젝트임\n",
        "* 옵져버는 서브젝트의 상태에 따라 자신의 객체 상태를 변경하거나 필요한 연산을 수행\n",
        "* 이처럼 종속된 서비스가 코어 서비스의 상태를 참고하는 구조에서는 옵져버 디자인 패턴이 적합\n",
        "\n",
        "\n",
        "### 옵져버 패턴의 목적\n",
        "* 객체 간 일대다 관계를 형성하고 객체의 상태를 다른 종속 객체에 자동으로 알림\n",
        "* 서브젝트의 핵심 부분을 캡슐화함\n",
        "* 분산 시스템의 이벤트 서비스를 구현할 때"
      ]
    },
    {
      "cell_type": "markdown",
      "metadata": {
        "id": "WxncbeRAsxtJ"
      },
      "source": [
        "## 옵져버 패턴의 구성원\n",
        "\n",
        "1. Subject\n",
        "* Subject는 Observer를 관리함\n",
        "* Observer는 Subject 클래스의 register()와 deregister() 매소드를 호출해 자신을 등록\n",
        "* Subject는 여러 옵져버들을 관리\n",
        "\n",
        "2. Observer\n",
        "* 서브젝트를 감시하는 객체를 위한 인터페이스를 제공\n",
        "* 서브젝트의 상태르 알 수 있도록 ConcreaterObserver가 구현해야하는 메소드를 정의\n",
        "\n",
        "3. ConcreateObserver\n",
        "* Subject의 상태를 저장\n",
        "* 서브젝트에 대한 정보와 실제 상태를 일관되게 유지하기 위해 Observer 인터페이스를 구현\n",
        "\n",
        "ConcreateObserver는 Observer 인터페이스를구현해 자신을 Subject에 등록.\n",
        "상태 변화가 있을 때마다 Subject는 Observer의 알림 메소드를 통해 모든 ConcreateObserver에 알림"
      ]
    },
    {
      "cell_type": "code",
      "metadata": {
        "colab": {
          "base_uri": "https://localhost:8080/"
        },
        "id": "g_4ThW9wfSih",
        "outputId": "20b8a6dd-e735-464a-f0ef-0db6b93d1221"
      },
      "source": [
        "# 기본 옵져버 패턴 구현\n",
        "\n",
        "class Subjcet(object):\n",
        "  def __init__(self):\n",
        "    self.__observers = []\n",
        "\n",
        "  def register(self, observer):\n",
        "    self.__observers.append(observer)\n",
        "  \n",
        "  def notifyAll(self, *args, **kwargs):\n",
        "    for observer in self.__observers:\n",
        "      observer.notify(self, *args, **kwargs)\n",
        "\n",
        "\n",
        "class Observer1(object):\n",
        "  def __init__(self, subject):\n",
        "    subject.register(self)\n",
        "\n",
        "  def notify(self, subject, *args):\n",
        "    print(type(self).__name__, ':: Got', args, 'From', subject)\n",
        "\n",
        "\n",
        "class Observer2(object):\n",
        "  def __init__(self, subject):\n",
        "    subject.register(self)\n",
        "\n",
        "  def notify(self, subject, *args):\n",
        "    print(type(self).__name__, ':: Got', args, 'From', subject)\n",
        "\n",
        "\n",
        "subject = Subjcet()\n",
        "observer1 = Observer1(subject)\n",
        "observer2 = Observer2(subject)\n",
        "\n",
        "subject.notifyAll('notifycation')"
      ],
      "execution_count": 8,
      "outputs": [
        {
          "output_type": "stream",
          "name": "stdout",
          "text": [
            "Observer1 :: Got ('notifycation',) From <__main__.Subjcet object at 0x7f6427eda690>\n",
            "Observer2 :: Got ('notifycation',) From <__main__.Subjcet object at 0x7f6427eda690>\n"
          ]
        }
      ]
    },
    {
      "cell_type": "code",
      "metadata": {
        "id": "pUov4F3TqzUa"
      },
      "source": [
        "# 뉴스 에이전시 옵져버 패턴 구현\n",
        "\n",
        "class NewPublisher:\n",
        "    def __init__(self):\n",
        "        self.__subscribers = []\n",
        "        self.__latesNews = None\n",
        "\n",
        "    def attach(self, subscriber):\n",
        "        self.__subscribers.append(subscriber)\n",
        "\n",
        "    def detach(self):\n",
        "        return self.__subscribers.pop()\n",
        "\n",
        "    def subscribers(self):\n",
        "        return [type(x).__name__ for x in self.__subscribers]\n",
        "    \n",
        "    def notifySubscribers(self):\n",
        "        for sub in self.__subscribers:\n",
        "            sub.update()\n",
        "\n",
        "    def addNews(self, news):\n",
        "        self.__latesNews = news\n",
        "    \n",
        "    def getNews(self):\n",
        "        return 'Got News: ', self.__latesNews\n"
      ],
      "execution_count": 22,
      "outputs": []
    },
    {
      "cell_type": "code",
      "metadata": {
        "id": "T-CndWi-vDrJ"
      },
      "source": [
        "# Subscriber\n",
        "# 모든 ConcreateObserver의 추상 기본 클래스\n",
        "\n",
        "from abc import ABCMeta\n",
        "from abc import abstractmethod\n",
        "\n",
        "\n",
        "class Subscriber(metaclass=ABCMeta):\n",
        "    @abstractmethod\n",
        "    def update(self):\n",
        "      pass"
      ],
      "execution_count": 10,
      "outputs": []
    },
    {
      "cell_type": "code",
      "metadata": {
        "id": "s95WMrtAxc59"
      },
      "source": [
        "# ConcreateObserver\n",
        "# Subscriber 인터페이스를 구현하는 옵져버\n",
        "\n",
        "\n",
        "class SMSSubscriber:\n",
        "    def __init__(self, publisher):\n",
        "        self.publisher = publisher\n",
        "        self.publisher.attach(self)\n",
        "\n",
        "    def update(self):\n",
        "        print(type(self).__name__, self.publisher.getNews())\n",
        "\n",
        "\n",
        "class EmailSubscriber:\n",
        "    def __init__(self, publisher):\n",
        "        self.publisher = publisher\n",
        "        self.publisher.attach(self)\n",
        "\n",
        "    def update(self):\n",
        "        print(type(self).__name__, self.publisher.getNews())\n",
        "\n",
        "\n",
        "class AnyOtherSubscriber:\n",
        "    def __init__(self, publisher):\n",
        "        self.publisher = publisher\n",
        "        self.publisher.attach(self)\n",
        "\n",
        "    def update(self):\n",
        "        print(type(self).__name__, self.publisher.getNews())\n"
      ],
      "execution_count": 23,
      "outputs": []
    },
    {
      "cell_type": "code",
      "metadata": {
        "colab": {
          "base_uri": "https://localhost:8080/"
        },
        "id": "m4K1LsuRyem8",
        "outputId": "2060d2f8-2bf6-472c-cd7f-bd3f05bd8d6d"
      },
      "source": [
        "news_publisher = NewPublisher()\n",
        "for Subscriber in [SMSSubscriber, EmailSubscriber, AnyOtherSubscriber]:\n",
        "    Subscriber(news_publisher)\n",
        "    \n",
        "print('\\nSubscriber: ', news_publisher.subscribers())\n",
        "\n",
        "news_publisher.addNews('Hello World')\n",
        "news_publisher.notifySubscribers()\n",
        "\n",
        "print('\\nDetached: ', type(news_publisher.detach()).__name__)\n",
        "print('\\nSubscriber: ', news_publisher.subscribers())\n",
        "\n",
        "news_publisher.addNews('My Second News!')\n",
        "news_publisher.notifySubscribers()"
      ],
      "execution_count": 24,
      "outputs": [
        {
          "output_type": "stream",
          "name": "stdout",
          "text": [
            "\n",
            "Subscriber:  ['SMSSubscriber', 'EmailSubscriber', 'AnyOtherSubscriber']\n",
            "SMSSubscriber ('Got News: ', 'Hello World')\n",
            "EmailSubscriber ('Got News: ', 'Hello World')\n",
            "AnyOtherSubscriber ('Got News: ', 'Hello World')\n",
            "\n",
            "Detached:  AnyOtherSubscriber\n",
            "\n",
            "Subscriber:  ['SMSSubscriber', 'EmailSubscriber']\n",
            "SMSSubscriber ('Got News: ', 'My Second News!')\n",
            "EmailSubscriber ('Got News: ', 'My Second News!')\n"
          ]
        }
      ]
    },
    {
      "cell_type": "markdown",
      "metadata": {
        "id": "lcZ6w0Zp0fVs"
      },
      "source": [
        "## 옵져버 패턴 패턴 매소드\n",
        "\n",
        "* Subject의 변경 사항을 Observer에 알리는 방법에는 push / pull 두 가지 방법이 있음\n",
        "\n",
        "### PULL 모델\n",
        "* 풀 모델에서의 Observer는 아래의 역할을 함\n",
        "   * Subject는 변경 사항이 있음을 등록된 Observer에 브로드캐스트 함\n",
        "   * Observer는 직접 게시자에게 변경 사항을 요청하고 끌어와야함\n",
        "   * 풀 모델은 Subject가 Observer에 알리는 단계와 Observer가 Subject로 부터 필요한 데이터를 받아오는 두 단계가 필요하므로 비효율적임\n",
        "\n",
        "### PUSH 모델\n",
        "  * 푸쉬 모델에서의 Observer는 아래의 역할을 함\n",
        "    * 풀 모델과 달리 Subject가 Observer에 데이터를 보호함\n",
        "    * Subject는 Observer가 필요로 하지 않는 데이터까지 보낼 수 있음\n",
        "    * 따라서 쓸데 없이 많은 양의 데이터를 전송해 응답 시간이 늦어질 수 있음\n",
        "    * 성능을 위해 Subject는 오직 필요로 한 데이터만 보내야함"
      ]
    },
    {
      "cell_type": "markdown",
      "metadata": {
        "id": "ajBQfZxb1ccF"
      },
      "source": [
        "## 느슨한 결합과 옵져버 패턴\n",
        "* 느슨한 결합은 중요한 소프트웨어 애플리케이션 설계 원칙임\n",
        "* 상호작용하는 객체 간의 관계를 최대한 느슨하게 구성하는 것이 목적\n",
        "* 여기서의 결합이란 객체가 상호작용하는 다른 객체에 대해 알고있는 정도를 의미\n",
        "\n",
        "### 느슨한 결합의 효과\n",
        "* 한 부분에 대한 수정이 예기치 않은 다른 부분까지 영향을 미치는 위험을 줄임\n",
        "* 테스트와 유지 보수 및 장애 처리가 쉽다\n",
        "* 시스템을 쉽게 여러 부분으로 분리\n",
        "\n",
        "### 옵져버 패턴과 느슨한 결합\n",
        "* Subject는 정확히 Observer가 어떤 인터페이스를 구현하는지 모름. ConcreateObserver의 존재를 모름\n",
        "* 언제든지 새로운 Observer를 추가 할 수 있음\n",
        "* 새로운 Object를 추가해도 Subject를 수정할 필요가 없음. 위의 예제에서 Subject를 수정하지 않고도 AnyOtherObserver를 추가/제거 했음\n",
        "* Subject 또는 Observer는 독립적임. Observer는 필요 시 어디에서도 재 사용될 수 있음\n",
        "* Subjcet 또는 Observer에 대한 수정이 서로에게 아무런 영향을 주지 않음. 완전 독립성 또는 느슨한 결합 덕분에 걱정 없이 수정할 수 있음\n",
        "* Subject 또는 Observer 클래스를 수정하지 않고 객체간 자유롭게 데이터를 주고 받을 수 있음\n",
        "* 새로운 Observer를 언제든지 추가/제거할 수 있음"
      ]
    },
    {
      "cell_type": "markdown",
      "metadata": {
        "id": "hGULwEI625OJ"
      },
      "source": [
        "## 옵져버 패턴의 단점\n",
        "\n",
        "* ConcreateObserver는 상속을 통해 Observer 인터페이스를 구현. 컴포지션에 대한 선택권이 없음\n",
        "* 제대로 구현되지 안흔 Observer 클래스는 복잡도를 높이고 성능 저하의 원인이 될 수 있음\n",
        "* 애플리케이션 알림 기능은 간혹 신뢰할 수 없으며 레이스 상태 또는 비일관성을 초래 할 수 있음"
      ]
    }
  ]
}
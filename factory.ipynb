{
  "nbformat": 4,
  "nbformat_minor": 0,
  "metadata": {
    "colab": {
      "name": "factory.ipynb",
      "provenance": [],
      "authorship_tag": "ABX9TyOPeMaQyqZaKBUdpS7o9JvE",
      "include_colab_link": true
    },
    "kernelspec": {
      "name": "python3",
      "display_name": "Python 3"
    },
    "language_info": {
      "name": "python"
    }
  },
  "cells": [
    {
      "cell_type": "markdown",
      "metadata": {
        "id": "view-in-github",
        "colab_type": "text"
      },
      "source": [
        "<a href=\"https://colab.research.google.com/github/RyuMyunggi/design-pattern/blob/main/factory.ipynb\" target=\"_parent\"><img src=\"https://colab.research.google.com/assets/colab-badge.svg\" alt=\"Open In Colab\"/></a>"
      ]
    },
    {
      "cell_type": "markdown",
      "metadata": {
        "id": "D69Sesu9O9ze"
      },
      "source": [
        "## 팩토리패턴\n",
        "\n",
        "* 생성패턴 중 하나\n",
        "* 가장 많이 쓰이는 디자인 패턴\n",
        "* 객체지향 프로그래밍에서 팩토리란 다른 클래스의 객체를 생성하는 클래스를 일컫는다\n",
        "* 팩토리는 객체와 관련 메소드로 구성돼 있다\n",
        "* 클라이언트는 특정 인자와 함께 메소드를 호출하고 팩토리는 해당 객체를 생성하고 반환한다\n",
        "* 모든 팩토리 패턴에서는 객체 생성을 캡슐화한다\n",
        "* ```클래스의 인스턴스를 만드는 것을 서브클래스에서 결정하도록 하는 것```\n",
        "* 객체 생성 부분을 서브 클래스에 위임하므로서 객체 생성을 캡슐화하고 구상 클래스에 대한 ```의존성```이 줄어든다는 이점을 얻을 수 있음\n",
        "* 의존성이 줄어드는 이유 ? 객체 지향 성질 중에 하나인 다형성을 이용했기 때문. 인터페이스를 구현한 객체들은 같은 인터페이스를 바라보기 때문에 코드에 유연함이 있음\n",
        "* 객체 지향 디자인 패턴 원칙 확장에 대해서는 열려있고 변화에 대해서는 닫혀있음. 따라서 변화가 일어날 수 있는 객체 생성을 담당하는 클래스를 만들어 한 곳에서 관리하여 결합도를 줄임"
      ]
    },
    {
      "cell_type": "markdown",
      "metadata": {
        "id": "qvp8oj15PWTT"
      },
      "source": [
        "### 팩토리패턴이 필요한 이유\n",
        "\n",
        "* 객체 생성과 클래스 구현을 나눠 상호 의존도를 줄인다\n",
        "* 클라이언트는 생성하려는 객체 클래스 구현과 상관 없이 사용할 수 있다. 객체를 생성 할 때 필요한 인터페이스와 메소드, 인자 등의 정보만 있으면 된다. 따라서 클라이언트의 일이 줄어든다\n",
        "* 코드를 수정하지 않고 간단하게 팩토리에 새로운 클래스를 추가할 수 있다\n",
        "* 이미 생성된 객체를 팩토리가 재활용할 수 있다. 클라이언트가 직접 객체를 생성하는 경우 매번 새로운 객체가 생성된다"
      ]
    },
    {
      "cell_type": "markdown",
      "metadata": {
        "id": "oLGtevcE1k3F"
      },
      "source": [
        "### 팩토리 패턴의 유형\n",
        "1. 심플 팩토리 패턴: 인터페이스는 객체 생성 로직을 숨기고 객체를 생성한다\n",
        "2. 팩토리 메소드 패턴: 인터페이스를 통해 객체를 생성하지만 서브 클래스가 객체 생성에 필요한 클래스를 선택한다\n",
        "3. 추상 팩토리 패턴: 추상 팩토리는 개체 생성에 필요한 클래스를 노출하지 않고 객체를 생성하는 인터페이스다. 내부적으로 다른 팩토리 객체를 생성한다"
      ]
    },
    {
      "cell_type": "code",
      "metadata": {
        "colab": {
          "base_uri": "https://localhost:8080/"
        },
        "id": "C7J9x7mXOwFg",
        "outputId": "f748c9e8-55e7-447e-f214-3e912f2f858f"
      },
      "source": [
        "# 심플 팩토리 패턴\n",
        "\n",
        "from abc import ABCMeta # abc == abstruct base class\n",
        "from abc import abstractmethod\n",
        "\n",
        "\n",
        "class Animal(metaclass = ABCMeta):\n",
        "  @abstractmethod\n",
        "  def do_say(self): # override\n",
        "    pass\n",
        "\n",
        "\n",
        "class Dog(Animal):\n",
        "  def do_say(self):\n",
        "    print('Bhow Bhow!')\n",
        "\n",
        "\n",
        "class Cat(Animal):\n",
        "  def do_say(self):\n",
        "    print('Meow Mewo!')\n",
        "\n",
        "\n",
        "## foreset factory 정의\n",
        "class ForestFactory(object):\n",
        "  def make_sound(self, object_type):\n",
        "    return eval(object_type)().do_say()\n",
        "\n",
        "\n",
        "## clinet 코드\n",
        "ff = ForestFactory()\n",
        "animal = input('Which animal should make_sound Dog or Cat?')\n",
        "ff.make_sound(animal) # animal 인스턴스가 런타임에 생성되고 울음소리 출력"
      ],
      "execution_count": null,
      "outputs": [
        {
          "output_type": "stream",
          "name": "stdout",
          "text": [
            "Which animal should make_sound Dog or Cat?Cat\n",
            "Meow Mewo!\n"
          ]
        }
      ]
    },
    {
      "cell_type": "markdown",
      "metadata": {
        "id": "khDjoXApaPoU"
      },
      "source": [
        "@abstructmethod\n",
        "* 추상 클래스. 추상 클래스는 매서드 목록만 가진 클래스. 상속 받는 클래스에서 메서드 구현을 강제하기 위해 사용\n",
        "* 추상 클래스를 상속 받았다면 abstructmethod가 붙은 추상 메서드를 모두 구현해야함 (만약 구현하지 않았다면 TypeError 발생)\n",
        "* 추상 클래스는 인스턴스화 할 수 없음\n",
        "* 따라서 pass만 넣어서 빈 메서드로만 만들어야함"
      ]
    },
    {
      "cell_type": "markdown",
      "metadata": {
        "id": "CaWk_sNebt66"
      },
      "source": [
        "## 팩토리 메소드 패턴\n",
        "\n",
        "* 인터페이스를 통해 객체를 생성하지만 팩토리가 아닌 서브 클래스가 해당 객체 생성을 위해 어떤 클래스를 호출할지 결정\n",
        "* 팩토리 메소드는 인스턴스화가 아닌 상속을 통해 객체를 생성\n",
        "* 팩토리 메소드 디자인은 유동적임. 심플 팩토리 메소드와는 다르게 특정 객체 대신 인스턴스나 서브 클래스 객체를 반환할 수 있음\n",
        "* ```팩토리 매소드 패턴의 팩토리 메소드는 객체를 생성해서 반환하는 것을 말함```\n",
        "* "
      ]
    },
    {
      "cell_type": "code",
      "metadata": {
        "id": "T4I8q9APbl-4"
      },
      "source": [
        "class Section(metaclass=ABCMeta):\n",
        "  # 추상메서드 선언\n",
        "  @abstractmethod\n",
        "  def describe(self):\n",
        "    pass\n",
        "\n",
        "\n",
        "class PersonalSection(Section):\n",
        "  def describe(self):\n",
        "    print('Personal Section')\n",
        "\n",
        "\n",
        "class AlbumSection(Section):\n",
        "  def describe(self):\n",
        "    print('Album Section')\n",
        "\n",
        "\n",
        "class PatenSection(Section):\n",
        "  def describe(self):\n",
        "    print('Patent Section')\n",
        "\n",
        "\n",
        "class PublicationSection(Section):\n",
        "  def describe(self):\n",
        "    print('Publication Section')\n"
      ],
      "execution_count": null,
      "outputs": []
    },
    {
      "cell_type": "code",
      "metadata": {
        "colab": {
          "base_uri": "https://localhost:8080/"
        },
        "id": "6f0NI4kVAUhv",
        "outputId": "bb903830-11f0-41aa-9278-7c8ce268529d"
      },
      "source": [
        "class Profile(metaclass=ABCMeta):\n",
        "  def __init__(self):\n",
        "    self.sections = []\n",
        "    self.createProfile()\n",
        "  \n",
        "  @abstractmethod\n",
        "  def createProfile(self):\n",
        "    pass\n",
        "\n",
        "  def getSections(self):\n",
        "    return self.sections\n",
        "\n",
        "  def addSections(self, section):\n",
        "    self.sections.append(section)\n",
        "\n",
        "\n",
        "# createProfile(): 팩토리 메소드\n",
        "class linkedin(Profile):\n",
        "  def createProfile(self):\n",
        "    self.addSections(PersonalSection())\n",
        "    self.addSections(PatenSection())\n",
        "    self.addSections(PublicationSection())\n",
        "\n",
        "\n",
        "class facebook(Profile):\n",
        "  def createProfile(self):\n",
        "    self.addSections(PersonalSection())\n",
        "    self.addSections(AlbumSection())\n",
        "\n",
        "\n",
        "profile_type = input('Which Profile you`d like to create? [LinkedIn / FaceBook]')\n",
        "profile = eval(profile_type.lower())()\n",
        "print('Creating Profile..', type(profile).__name__)\n",
        "print('Profile has Section --', profile.getSections())"
      ],
      "execution_count": null,
      "outputs": [
        {
          "output_type": "stream",
          "name": "stdout",
          "text": [
            "Which Profile you`d like to create? [LinkedIn / FaceBook]LinkedIn\n",
            "Creating Profile.. linkedin\n",
            "Profile has Section -- [<__main__.PersonalSection object at 0x7f087eef6e10>, <__main__.PatenSection object at 0x7f087eef6e50>, <__main__.PublicationSection object at 0x7f087eef6dd0>]\n"
          ]
        }
      ]
    },
    {
      "cell_type": "markdown",
      "metadata": {
        "id": "j-EYu1t5Dj9z"
      },
      "source": [
        "### 팩토리 메소드 패턴의 장점\n",
        "\n",
        "* 특정 클래스에 종속적이지 않기 때문에 개발 및 구현이 쉽다. ConcreProduct가 아닌 인터페이스에 의존한다 -> ?\n",
        "* 객체를 생성하는 코드와 활용하는 코드를 분리해 의존성이 줄어든다. 클라이언트는 어떤 인자를 넘겨야하고, 어떤 클래스를 생성해야하는지 걱정할 필요가 없다. 어떤 클래스가 생성되는지 알 필요가 없다. 새로운 클래스를 쉽게 추가할 수 있고 유지보수가 쉽다. "
      ]
    },
    {
      "cell_type": "markdown",
      "metadata": {
        "id": "fbEneZgdEvHE"
      },
      "source": [
        "## 추상 팩토리 패턴\n",
        "\n",
        "* 추상 팩토리 패턴의 주목적은 클래스를 직접 호출하지 않고 관련된 객체를 생성하는 인터페이스를 제공\n",
        "* 팩토리 메소드가 인스턴스 생성을 서브 클래스에게 맡기는 반면 추상 팩토리 메소드는 관련된 객체의 집합을 생성\n"
      ]
    },
    {
      "cell_type": "code",
      "metadata": {
        "id": "ZUrfFZqAEtw8"
      },
      "source": [
        "class PizzaFactory(metaclass=ABCMeta):\n",
        "  @abstractmethod\n",
        "  def createVegPizza(self):\n",
        "    pass\n",
        "  \n",
        "  @abstractmethod\n",
        "  def createNonVegPizza(self):\n",
        "    pass\n",
        "\n",
        "\n",
        "class IndianPizzaFactory(PizzaFactory):\n",
        "  def createVegPizza(self):\n",
        "    return DeluxVegglePizza()\n",
        "  \n",
        "  def createNonVegPizza(self):\n",
        "    return ChickenPizza()\n",
        "\n",
        "\n",
        "class USPizzaFactory(PizzaFactory):\n",
        "  def createVegPizza(self):\n",
        "    return MexicanVegPizza()\n",
        "\n",
        "  def createNonVegPizza(self):\n",
        "    return HamPizza()\n",
        "   "
      ],
      "execution_count": null,
      "outputs": []
    },
    {
      "cell_type": "code",
      "metadata": {
        "id": "HHQf1khHH6CM"
      },
      "source": [
        "class VegPizza(metaclass=ABCMeta):\n",
        "  @abstractmethod\n",
        "  def prepare(self, VegPizza):\n",
        "    pass\n",
        "\n",
        "\n",
        "class NonVegPizza(metaclass=ABCMeta):\n",
        "  def serve(self, VegPizza):\n",
        "    pass\n",
        "\n",
        "\n",
        "class DeluxVegglePizza(VegPizza):\n",
        "  def prepare(self):\n",
        "    print('Prepare ', type(self).__name__)\n",
        "\n",
        "\n",
        "class ChickenPizza(NonVegPizza):\n",
        "  def serve(self, VegPizza):\n",
        "    print(type(self).__name__, ' is served with Chicken on ', type(VegPizza).__name__)\n",
        "\n",
        "\n",
        "class MexicanVegPizza(VegPizza):\n",
        "  def prepare(self):\n",
        "    print('Prepare ', type(self).__name__)\n",
        "\n",
        "\n",
        "class HamPizza(NonVegPizza):\n",
        "  def serve(self, VegPizza):\n",
        "    print(type(self).__name__, ' is served with Ham on ', type(VegPizza).__name__)"
      ],
      "execution_count": null,
      "outputs": []
    },
    {
      "cell_type": "code",
      "metadata": {
        "colab": {
          "base_uri": "https://localhost:8080/"
        },
        "id": "CpeeVLxcJPXp",
        "outputId": "dfb65c27-c377-4c66-d95d-02155d92cc3b"
      },
      "source": [
        "class PizzaStore:\n",
        "  def __init__(self):\n",
        "    pass\n",
        "\n",
        "  def makePizza(self):\n",
        "    for factory in [IndianPizzaFactory(), USPizzaFactory()]:\n",
        "      self.factory = factory\n",
        "      self.NonVegPizza = self.factory.createNonVegPizza()\n",
        "      self.VegPizza = self.factory.createVegPizza()\n",
        "      self.VegPizza.prepare()\n",
        "      self.NonVegPizza.serve(self.VegPizza)\n",
        "\n",
        "\n",
        "pizza = PizzaStore()\n",
        "pizza.makePizza()"
      ],
      "execution_count": null,
      "outputs": [
        {
          "output_type": "stream",
          "name": "stdout",
          "text": [
            "Prepare  DeluxVegglePizza\n",
            "ChickenPizza  is served with Chicken on  DeluxVegglePizza\n",
            "Prepare  MexicanVegPizza\n",
            "HamPizza  is served with Ham on  MexicanVegPizza\n"
          ]
        }
      ]
    },
    {
      "cell_type": "markdown",
      "metadata": {
        "id": "ckXTFiaiKicj"
      },
      "source": [
        "## 팩토리 메소드 vs 추상 팩토리 메소드\n",
        "\n",
        "### 팩토리 메소드\n",
        "* 객체 생성에 필요한 메소드가 사용자에게 노출된다\n",
        "* 어떤 객체를 생성 할 지 결정하는 상속과 서브 클래스가 필요함\n",
        "* 한개의 객체를 생성하는 팩토리 메소드를 사용함\n",
        "\n",
        "### 추상 팩토리 메소드\n",
        "* 관련된 객체 집단을 생성하기 위해 한 개 싱상의 팩토리 메소드가 필요함\n",
        "* 다른 클래스 객체를 생성하기 위해 컴포지션을 사용함\n",
        "* 관련된 객체 집단을 생성. 팩토리들을 그룹으로 묶어 관리할 수 있는 패턴"
      ]
    }
  ]
}
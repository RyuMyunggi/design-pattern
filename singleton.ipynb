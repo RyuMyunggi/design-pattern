{
  "nbformat": 4,
  "nbformat_minor": 0,
  "metadata": {
    "colab": {
      "name": "singleton",
      "provenance": [],
      "authorship_tag": "ABX9TyN3esPKxhd0TlYdjzAXNVZo",
      "include_colab_link": true
    },
    "kernelspec": {
      "name": "python3",
      "display_name": "Python 3"
    },
    "language_info": {
      "name": "python"
    }
  },
  "cells": [
    {
      "cell_type": "markdown",
      "metadata": {
        "id": "view-in-github",
        "colab_type": "text"
      },
      "source": [
        "<a href=\"https://colab.research.google.com/github/RyuMyunggi/design-pattern/blob/main/singleton.ipynb\" target=\"_parent\"><img src=\"https://colab.research.google.com/assets/colab-badge.svg\" alt=\"Open In Colab\"/></a>"
      ]
    },
    {
      "cell_type": "code",
      "metadata": {
        "id": "-ffFv88cRFLf"
      },
      "source": [
        "# singleton design pattern\n",
        "# 글로벌하게 접근 가능한 하나의 객체를 제공하는 패턴\n",
        "# 로깅이나 데이터 베이스 관련작업, 프린터 스풀러와 같은 동일한 리소스에 대한 동시 요청의 충돌을 방지하기 위해 하나의 인스턴스를 공유하는 작업에 주로사용됨"
      ],
      "execution_count": 1,
      "outputs": []
    },
    {
      "cell_type": "code",
      "metadata": {
        "id": "t_A4UQO3SJAA"
      },
      "source": [
        "# 싱글톤 디자인 패턴의 목적\n",
        "# 클래스에 대한 단일 객체 생성\n",
        "# 전역 객체 제공\n",
        "# 공유된 리소스에 대한 동시 접근 제어"
      ],
      "execution_count": null,
      "outputs": []
    },
    {
      "cell_type": "code",
      "metadata": {
        "colab": {
          "base_uri": "https://localhost:8080/"
        },
        "id": "TlnMPnqaSUp-",
        "outputId": "c4650e5f-3a27-4d4d-a575-38a0dd92ed18"
      },
      "source": [
        "# 파이썬 싱글톤 패턴 구현\n",
        "# 하나의 Singleton 클래스 인스턴스를 생성한다\n",
        "# 이미 생성된 인스턴스가 있다면 재사용한다\n",
        "\n",
        "class Singleton(object):\n",
        "  def __new__(cls):\n",
        "    if not hasattr(cls, 'instance'):\n",
        "      cls.instance = super(Singleton, cls).__new__(cls)\n",
        "    return cls.instance\n",
        "\n",
        "s = Singleton()\n",
        "print(\"Object created\", s) \n",
        "# Object created <__main__.Singleton object at 0x7f29602c5c90>\n",
        "\n",
        "s1 = Singleton()\n",
        "print(\"Object created\", s1) \n",
        "# Object created <__main__.Singleton object at 0x7f29602c5c90>\n",
        "\n",
        "## 이미 객체가 생성됐음을 확인하고 해당 인스턴스를 반환한것을 확인 할 수 있음"
      ],
      "execution_count": 4,
      "outputs": [
        {
          "output_type": "stream",
          "name": "stdout",
          "text": [
            "Object created <__main__.Singleton object at 0x7f29602c5c90>\n",
            "Object created <__main__.Singleton object at 0x7f29602c5c90>\n"
          ]
        }
      ]
    },
    {
      "cell_type": "code",
      "metadata": {
        "colab": {
          "base_uri": "https://localhost:8080/"
        },
        "id": "2VQG0dB5TbOr",
        "outputId": "627773eb-c36d-4b81-e88e-5a996ad087cd"
      },
      "source": [
        "# 게으른 초기화\n",
        "# 싱글톤 패턴을 기반으로 하는 초기화 방식\n",
        "# 모듈을 import 할 때 아직 필요하지 않은 시점에 실수로 객체를 미리 생성하는 경우가 있음.\n",
        "# 게으른 초기화는 인스턴스를 꼭 필요할 때 생성. 사용할 수 있는 리소스가 제한적인 경우 객체가 꼭 필요한 시점에 객체를 생성\n",
        "\n",
        "class Singleton(object):\n",
        "  __instance = None\n",
        "  def __init__(self):\n",
        "    if not Singleton.__instance:\n",
        "      print(\"__init__ method called\")\n",
        "    else:\n",
        "      print(\"Instance already created:\", self.getInstance())\n",
        "  \n",
        "  @classmethod\n",
        "  def getInstance(cls):\n",
        "    if not cls.__instance:\n",
        "      cls.__instance = Singleton()\n",
        "    return cls.__instance\n",
        "\n",
        "s = Singleton()\n",
        "print(\"Object created\", Singleton.getInstance())\n",
        "s1 = Singleton()\n"
      ],
      "execution_count": 8,
      "outputs": [
        {
          "output_type": "stream",
          "name": "stdout",
          "text": [
            "__init__ method called\n",
            "__init__ method called\n",
            "Object created <__main__.Singleton object at 0x7f2956bc3ed0>\n",
            "Instance already created: <__main__.Singleton object at 0x7f2956bc3ed0>\n"
          ]
        }
      ]
    }
  ]
}
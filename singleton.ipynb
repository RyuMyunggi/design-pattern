{
  "nbformat": 4,
  "nbformat_minor": 0,
  "metadata": {
    "colab": {
      "name": "singleton",
      "provenance": [],
      "authorship_tag": "ABX9TyMgvfShA+HCj/InjblfneTG",
      "include_colab_link": true
    },
    "kernelspec": {
      "name": "python3",
      "display_name": "Python 3"
    },
    "language_info": {
      "name": "python"
    }
  },
  "cells": [
    {
      "cell_type": "markdown",
      "metadata": {
        "id": "view-in-github",
        "colab_type": "text"
      },
      "source": [
        "<a href=\"https://colab.research.google.com/github/RyuMyunggi/design-pattern/blob/main/singleton.ipynb\" target=\"_parent\"><img src=\"https://colab.research.google.com/assets/colab-badge.svg\" alt=\"Open In Colab\"/></a>"
      ]
    },
    {
      "cell_type": "code",
      "metadata": {
        "id": "-ffFv88cRFLf"
      },
      "source": [
        "# singleton design pattern\n",
        "# 글로벌하게 접근 가능한 하나의 객체를 제공하는 패턴\n",
        "# 로깅이나 데이터 베이스 관련작업, 프린터 스풀러와 같은 동일한 리소스에 대한 동시 요청의 충돌을 방지하기 \n",
        "# 위해 하나의 인스턴스를 공유하는 작업에 주로사용됨"
      ],
      "execution_count": 1,
      "outputs": []
    },
    {
      "cell_type": "code",
      "metadata": {
        "id": "t_A4UQO3SJAA"
      },
      "source": [
        "# 싱글톤 디자인 패턴의 목적\n",
        "# 클래스에 대한 단일 객체 생성\n",
        "# 전역 객체 제공\n",
        "# 공유된 리소스에 대한 동시 접근 제어"
      ],
      "execution_count": null,
      "outputs": []
    },
    {
      "cell_type": "code",
      "metadata": {
        "colab": {
          "base_uri": "https://localhost:8080/"
        },
        "id": "TlnMPnqaSUp-",
        "outputId": "c4650e5f-3a27-4d4d-a575-38a0dd92ed18"
      },
      "source": [
        "# 파이썬 싱글톤 패턴 구현\n",
        "# 하나의 Singleton 클래스 인스턴스를 생성한다\n",
        "# 이미 생성된 인스턴스가 있다면 재사용한다\n",
        "\n",
        "class Singleton(object):\n",
        "  def __new__(cls):\n",
        "    if not hasattr(cls, 'instance'):\n",
        "      cls.instance = super(Singleton, cls).__new__(cls)\n",
        "    return cls.instance\n",
        "\n",
        "s = Singleton()\n",
        "print(\"Object created\", s) \n",
        "# Object created <__main__.Singleton object at 0x7f29602c5c90>\n",
        "\n",
        "s1 = Singleton()\n",
        "print(\"Object created\", s1) \n",
        "# Object created <__main__.Singleton object at 0x7f29602c5c90>\n",
        "\n",
        "## 이미 객체가 생성됐음을 확인하고 해당 인스턴스를 반환한것을 확인 할 수 있음"
      ],
      "execution_count": 4,
      "outputs": [
        {
          "output_type": "stream",
          "name": "stdout",
          "text": [
            "Object created <__main__.Singleton object at 0x7f29602c5c90>\n",
            "Object created <__main__.Singleton object at 0x7f29602c5c90>\n"
          ]
        }
      ]
    },
    {
      "cell_type": "code",
      "metadata": {
        "colab": {
          "base_uri": "https://localhost:8080/"
        },
        "id": "2VQG0dB5TbOr",
        "outputId": "627773eb-c36d-4b81-e88e-5a996ad087cd"
      },
      "source": [
        "# 게으른 초기화\n",
        "# 싱글톤 패턴을 기반으로 하는 초기화 방식\n",
        "# 모듈을 import 할 때 아직 필요하지 않은 시점에 실수로 객체를 미리 생성하는 경우가 있음.\n",
        "# 게으른 초기화는 인스턴스를 꼭 필요할 때 생성. 사용할 수 있는 리소스가 제한적인 경우 객체가 꼭 필요한 시점에 객체를 생성\n",
        "\n",
        "class Singleton(object):\n",
        "  __instance = None\n",
        "  def __init__(self):\n",
        "    if not Singleton.__instance:\n",
        "      print(\"__init__ method called\")\n",
        "    else:\n",
        "      print(\"Instance already created:\", self.getInstance())\n",
        "  \n",
        "  @classmethod\n",
        "  def getInstance(cls):\n",
        "    if not cls.__instance:\n",
        "      cls.__instance = Singleton()\n",
        "    return cls.__instance\n",
        "\n",
        "s = Singleton()\n",
        "print(\"Object created\", Singleton.getInstance())\n",
        "s1 = Singleton()\n"
      ],
      "execution_count": 8,
      "outputs": [
        {
          "output_type": "stream",
          "name": "stdout",
          "text": [
            "__init__ method called\n",
            "__init__ method called\n",
            "Object created <__main__.Singleton object at 0x7f2956bc3ed0>\n",
            "Instance already created: <__main__.Singleton object at 0x7f2956bc3ed0>\n"
          ]
        }
      ]
    },
    {
      "cell_type": "code",
      "metadata": {
        "id": "rUXppI_LVjAp"
      },
      "source": [
        "# 모듈 싱글톤\n",
        "# 파이썬 import 방식으로 인해 모든 모듈은 기본적으로 singletone임\n",
        "# 1. 파이썬 모듈이 import 됐는지 확인한다\n",
        "# 2. 이미 import 된 경우, 해당 모듈의 객체를 반환한다. import 되지 않은 경우, import 후 초기화 함\n",
        "# 3. 모듈의 import와 동시에 초기화 된다.\n",
        "#    모듈은 다시 import 하면 초기화 되지 않는다. 하나의 객체를 유지 및 반환하는 싱글톤 패턴"
      ],
      "execution_count": null,
      "outputs": []
    },
    {
      "cell_type": "code",
      "metadata": {
        "colab": {
          "base_uri": "https://localhost:8080/"
        },
        "id": "eifAmwLwWDum",
        "outputId": "eeb0cf25-b36a-404c-835e-4d18bb25e2b6"
      },
      "source": [
        "# 모노스테이트 싱글톤 패턴\n",
        "# 상태를 공유하는 인스턴스\n",
        "# 객체생성 여부보다는 객체의 상태와 행위가 더 중요\n",
        "# 말 그대로 모든 객체가 같은 상태를 공유 하는 것\n",
        "\n",
        "class Borg(object):\n",
        "  __shared_state = {\"1\": \"2\"}\n",
        "  def __init__(self):\n",
        "    self.x = 1\n",
        "    self.__dict__ = self.__shared_state\n",
        "    pass\n",
        "  \n",
        "b = Borg()\n",
        "b1 = Borg()\n",
        "b.x = 4\n",
        "\n",
        "print(\"Borg Object 'b': \", b)\n",
        "print(\"Borg Object 'b1': \", b1)\n",
        "print(\"Borg Object 'b': \", b.__dict__)\n",
        "print(\"Borg Object 'b': \", b1.__dict__)"
      ],
      "execution_count": 14,
      "outputs": [
        {
          "output_type": "stream",
          "name": "stdout",
          "text": [
            "{'1': '2'}\n",
            "Borg Object 'b':  <__main__.Borg object at 0x7f2952990cd0>\n",
            "Borg Object 'b1':  <__main__.Borg object at 0x7f2952990590>\n",
            "Borg Object 'b':  {'1': '2'}\n",
            "Borg Object 'b':  {'1': '2'}\n"
          ]
        }
      ]
    },
    {
      "cell_type": "code",
      "metadata": {
        "colab": {
          "base_uri": "https://localhost:8080/"
        },
        "id": "Va0joOtPXhhC",
        "outputId": "7a1d82dc-d61e-481b-9985-3521e24e3f02"
      },
      "source": [
        "# 모노스테이트 싱글톤 패턴 2\n",
        "# __new__ 메소드를 사용해 구현하는 방법\n",
        "\n",
        "class Borg(object):\n",
        "  _shared_state = {}\n",
        "  def __new__(cls, *args, **kwargs):\n",
        "    obj = super(Borg, cls).__new__(cls, *args, **kwargs)\n",
        "    obj.__dict__ = cls._shared_state\n",
        "    return obj\n",
        "\n",
        "b = Borg()\n",
        "print(b)\n",
        "print(b.__dict__)"
      ],
      "execution_count": 17,
      "outputs": [
        {
          "output_type": "stream",
          "name": "stdout",
          "text": [
            "<__main__.Borg object at 0x7f295293de10>\n",
            "{}\n"
          ]
        }
      ]
    },
    {
      "cell_type": "code",
      "metadata": {
        "colab": {
          "base_uri": "https://localhost:8080/"
        },
        "id": "V9G8eK8BYWrA",
        "outputId": "c8764217-2e6f-4680-d061-4678cb5aee12"
      },
      "source": [
        "# 싱글톤과 메타클래스\n",
        "# 메타클래스는 클래스의 클래스\n",
        "# 클래스는 자신의 메타 클래스의 인스턴스. 메타클래스를 사용하면 이미 정의된 파이썬 클래스를 통해 새로운 형식의 클래스를 생성 할 수 있음\n",
        "# ex) int의 메타클래스는 type 클래스\n",
        "\n",
        "class MyInt(type):\n",
        "  def __call__(cls, *args, **kwds): # __call__: 이미 존재하는 클래스의 객체를 생성 할 때 호출되는 매직 매서드\n",
        "    print('***** Here`s My int *****', args)\n",
        "    print('Now do whatever you want with these objects...')\n",
        "    return type.__call__(cls, *args, **kwds)\n",
        "  \n",
        "class Int(metaclass=MyInt):\n",
        "  def __init__(self, x, y):\n",
        "    self.x = x\n",
        "    self.y = y\n",
        "\n",
        "i = Int(4, 5)\n",
        "\n",
        "# 위와 같이 클래스를 생성하면 MyInt 메타클래스의 __call__ 매소드가 호출됨\n",
        "# 객체 생성을 metaclass가 제어한다는 것\n",
        "# metaclass는 클래스의 생성과 객체의 초기화를 더 세부적으로 제어 할 수 있기 때문에 싱글톤 생성에도 사용될 수 있음\n",
        "# metaclass는 __new__와 __init__ 매서드를 오버라이드해 클래스의 생성과 초기화를 제어"
      ],
      "execution_count": 19,
      "outputs": [
        {
          "output_type": "stream",
          "name": "stdout",
          "text": [
            "***** Here`s My int ***** (4, 5)\n",
            "Now do whatever you want with these objects...\n"
          ]
        }
      ]
    },
    {
      "cell_type": "code",
      "metadata": {
        "colab": {
          "base_uri": "https://localhost:8080/"
        },
        "id": "8Ejq862mafxM",
        "outputId": "6a054740-d264-4ae2-9c1b-c13be52bcfdf"
      },
      "source": [
        "# 메타클래스를 사용해 싱글톤 패턴 구현\n",
        "\n",
        "class MetaSingleton(type):\n",
        "  _instances = {}\n",
        "  def __call__(cls, *args, **kwargs):\n",
        "    if cls not in cls._instances:\n",
        "      cls._instances[cls] = super(MetaSingleton, cls).__call__(*args, **kwargs)\n",
        "    return cls._instances[cls]\n",
        "\n",
        "class Logger(metaclass=MetaSingleton):\n",
        "  pass\n",
        "\n",
        "logger1 = Logger()\n",
        "logger2 = Logger()\n",
        "print(logger1, logger2)"
      ],
      "execution_count": 22,
      "outputs": [
        {
          "output_type": "stream",
          "name": "stdout",
          "text": [
            "<__main__.Logger object at 0x7f29528f7ed0> <__main__.Logger object at 0x7f29528f7ed0>\n"
          ]
        }
      ]
    }
  ]
}
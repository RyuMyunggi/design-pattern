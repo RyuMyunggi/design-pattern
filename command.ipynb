{
  "nbformat": 4,
  "nbformat_minor": 0,
  "metadata": {
    "colab": {
      "name": "command.ipynb",
      "provenance": [],
      "authorship_tag": "ABX9TyPFbgyQTOixxtwWu6rJO2n1",
      "include_colab_link": true
    },
    "kernelspec": {
      "name": "python3",
      "display_name": "Python 3"
    },
    "language_info": {
      "name": "python"
    }
  },
  "cells": [
    {
      "cell_type": "markdown",
      "metadata": {
        "id": "view-in-github",
        "colab_type": "text"
      },
      "source": [
        "<a href=\"https://colab.research.google.com/github/RyuMyunggi/design-pattern/blob/main/command.ipynb\" target=\"_parent\"><img src=\"https://colab.research.google.com/assets/colab-badge.svg\" alt=\"Open In Colab\"/></a>"
      ]
    },
    {
      "cell_type": "markdown",
      "metadata": {
        "id": "Ktw5t-bf4-b7"
      },
      "source": [
        "## 커맨드 패턴: 요청 패턴화"
      ]
    },
    {
      "cell_type": "markdown",
      "metadata": {
        "id": "RpFZkK4z5DUL"
      },
      "source": [
        "## 커맨드 패턴\n",
        "\n",
        "* 행위 패턴에서는 객체의 역할이 중요. 객체는 상호 작용을 통해 더 큰 기능을 구현할 수 있음\n",
        "* 커맨드 패턴은 객체가 특정 기능을 바로 수행하거나 나중에 트리거할 때 필요한 모든 정보를 캡슐화하는 해동 패턴\n",
        "* 캡슐화하는 정보는 다음과 같음\n",
        "  * 메소드 명\n",
        "  * 메소드를 소유하는 객체\n",
        "  * 메소드인자\n",
        "\n",
        "### 커맨드 패턴의 목적\n",
        "* 요청을 객체 속에 캡슐화함\n",
        "* 클라이언트의 다양한 요청을 매개변화함\n",
        "* 요청을 큐에 저장\n",
        "* 객체지향 콜백을 지향\n",
        "\n",
        "### 커맨드 패턴이 적합한 상황\n",
        "* 수행할 명령에 따라 객체를 변수화 할 때\n",
        "* 요청을 큐에 저장하고 각기 다른 시점에 수행해야 하는 경우\n",
        "* 작은 단위의 연산을 기반으로 하는상위 연산을 만들 때"
      ]
    },
    {
      "cell_type": "markdown",
      "metadata": {
        "id": "t1upRQUH5lsg"
      },
      "source": [
        "## 커맨드 패턴 구성요소\n",
        "\n",
        "### Command\n",
        "* Command 객체는 Reciver 객체에 대해 알고 있으며 Reciver 객체의 함수를 호출\n",
        "* Reciver 함수의 인자는 Command 객체에 저장돼 있음\n",
        "* Invoker는 명령을 수행\n",
        "* Client는 Commnad 객체를 생성하고 Reciver를 정함\n",
        "\n"
      ]
    },
    {
      "cell_type": "code",
      "metadata": {
        "colab": {
          "base_uri": "https://localhost:8080/"
        },
        "id": "SFHDqyq047M1",
        "outputId": "2232cb28-441f-4b91-faee-73231e04e505"
      },
      "source": [
        "class Wizard(object):\n",
        "    def __init__(self, src, rootdir):\n",
        "        self.choices = []\n",
        "        self.rootdir = rootdir\n",
        "        self.src = src\n",
        "\n",
        "    def preferences(self, command):\n",
        "        self.choices.append(command)\n",
        "\n",
        "    def excute(self):\n",
        "        for choice in self.choices:\n",
        "            print(choice)\n",
        "            if list(choice.values())[0]:\n",
        "                print('Copying binaries --', self.src, 'to', self.rootdir)\n",
        "            else:\n",
        "                print('No Operation')\n",
        "\n",
        "wizard = Wizard('python3.5.gzip', '/usr/bin/')\n",
        "wizard.preferences({'python': True})\n",
        "wizard.preferences({'java': False})\n",
        "wizard.excute()"
      ],
      "execution_count": null,
      "outputs": [
        {
          "output_type": "stream",
          "name": "stdout",
          "text": [
            "{'python': True}\n",
            "Copying binaries -- python3.5.gzip to /usr/bin/\n",
            "{'java': False}\n",
            "No Operation\n"
          ]
        }
      ]
    },
    {
      "cell_type": "code",
      "metadata": {
        "id": "b8Hf40OzCNiS"
      },
      "source": [
        "from abc import ABCMeta\n",
        "from abc import abstractmethod\n",
        "\n",
        "\n",
        "class Command(metaclass=ABCMeta):\n",
        "    def __init__(self, recv):\n",
        "        self.recv = recv\n",
        "    \n",
        "    def excute(self):\n",
        "        pass\n",
        "\n",
        "\n",
        "class ConcreateCommand(Command):\n",
        "    def __init__(self, recv):\n",
        "        self.recv = recv\n",
        "\n",
        "    def excute(self):\n",
        "        pass\n",
        "\n",
        "\n",
        "class Receiver:\n",
        "    def action(self):\n",
        "        print('Recever Action')\n",
        "\n",
        "\n",
        "class Invoker:\n",
        "    def command(self, cmd):\n",
        "        self.cmd = cmd\n",
        "    \n",
        "    def excute(self):\n",
        "        self.cmd.excute()\n",
        "\n",
        "\n",
        "recv = Receiver()\n",
        "cmd = ConcreateCommand(recv)\n",
        "invoker = Invoker()\n",
        "invoker.command(cmd)\n",
        "invoker.excute()"
      ],
      "execution_count": 4,
      "outputs": []
    },
    {
      "cell_type": "code",
      "metadata": {
        "id": "uZJ1ZzrVEIZQ"
      },
      "source": [
        "# command 패턴 실제 활용 코드\n",
        "\n",
        "class Order(metaclass=ABCMeta):\n",
        "  @abstractmethod\n",
        "  def excute(self):\n",
        "    pass"
      ],
      "execution_count": 6,
      "outputs": []
    },
    {
      "cell_type": "code",
      "metadata": {
        "id": "dP_fyZDEEclH"
      },
      "source": [
        "class BuyStockOrder(Order):\n",
        "  def __init__(self, stock):\n",
        "    self.stock = stock\n",
        "\n",
        "  def excute(self):\n",
        "    self.stock.buy()\n",
        "\n",
        "\n",
        "class ShellStockOrder(Order):\n",
        "  def __init__(self, stock):\n",
        "    self.stock = stock\n",
        "\n",
        "  def excute(self):\n",
        "    self.stock.sell()"
      ],
      "execution_count": 7,
      "outputs": []
    },
    {
      "cell_type": "code",
      "metadata": {
        "id": "OxIjoIUPE4BG"
      },
      "source": [
        "class StockTrade:\n",
        "  def buy(self):\n",
        "    print('You Will Buy Stocks')\n",
        "  \n",
        "  def sell(self):\n",
        "    print('Youu Will Sell Stocks')\n"
      ],
      "execution_count": 8,
      "outputs": []
    },
    {
      "cell_type": "code",
      "metadata": {
        "id": "16iyK9QFFFt2"
      },
      "source": [
        "class Agent:\n",
        "  def __init__(self):\n",
        "    self.__orderQueue = []\n",
        "\n",
        "  def placeOrder(self, order):\n",
        "    self.__orderQueue.append(order)\n",
        "    order.excute()"
      ],
      "execution_count": 9,
      "outputs": []
    },
    {
      "cell_type": "code",
      "metadata": {
        "colab": {
          "base_uri": "https://localhost:8080/"
        },
        "id": "gxyTve7QFVBN",
        "outputId": "081bcf54-e8f0-49ae-e533-987bd8b24e10"
      },
      "source": [
        "stock = StockTrade()\n",
        "buyStock = BuyStockOrder(stock)\n",
        "sellStock = ShellStockOrder(stock)\n",
        "\n",
        "agent = Agent()\n",
        "agent.placeOrder(buyStock)\n",
        "agent.placeOrder(sellStock)"
      ],
      "execution_count": 10,
      "outputs": [
        {
          "output_type": "stream",
          "name": "stdout",
          "text": [
            "You Will Buy Stocks\n",
            "Youu Will Sell Stocks\n"
          ]
        }
      ]
    },
    {
      "cell_type": "markdown",
      "metadata": {
        "id": "MVflRAqAF3IB"
      },
      "source": [
        "## 커맨드 패턴이 사용되는 상황\n",
        "* 리두 또는 롤백\n",
        "  * 파일 시스템이나 메모리에 스냅샷을 생성하고롤백이 필요할 때 해당 스냅샷 상태로 되돌림\n",
        "  * 커맨드 패턴을 사용할 경우 커맨드를 순서대로저장하고 리두가 필요할 때 저장된 명령을 순차적으로 실행함\n",
        "\n",
        "* 비동기 작업 수행\n",
        "  * 분산 환경에서 코어 서비스에 요청이 몰리지 않도록 작업을 비동기로 수행하는 경우가 많음\n",
        "  * 커맨드 패턴의 Invoker 객체는 모든 요청을 큐에 저장하고 순차적으로 Receiver 객체에 보내어 메인 스레드로 부터 독립적으로 수행"
      ]
    },
    {
      "cell_type": "markdown",
      "metadata": {
        "id": "VeGRED4VGq-n"
      },
      "source": [
        "## 커맨드 패턴의 장단점\n",
        "\n",
        "### 커맨드 패턴의 장점\n",
        "* 작업을 요청하는 클래스와 실제로 작업을 수행하는 클래스를 분리\n",
        "* 큐에 커맨드를 순서대로저장\n",
        "* 기존 코드를 수정하지 않고 새로운 커맨드를 쉽게 추가할 수 있음\n",
        "* 커맨드 패턴으로 롤백시스템을 구현할 수 있음. 앞선 예로 들었던 인스톨 위저드에 롤백 메소드를 쉽게 추가할 수 있음\n",
        "\n",
        "### 커맨드 패턴의 단점\n",
        "* 클래스와 객체가 많음. 개발자는 신중하게 클래스를 작성해야함\n",
        "* 모든 작업이 독립적인 ConcreateCommnad 클래스이므로 구현 및 유지 보수해야 하는 클래스가 많음"
      ]
    }
  ]
}